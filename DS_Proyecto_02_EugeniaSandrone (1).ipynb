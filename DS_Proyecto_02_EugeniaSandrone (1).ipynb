{
 "cells": [
  {
   "cell_type": "markdown",
   "metadata": {},
   "source": [
    "# Proyecto 2: Análisis de mercado inmobiliario"
   ]
  },
  {
   "cell_type": "markdown",
   "metadata": {},
   "source": [
    "El trabajo que sigue pretende mejorar los resultados del proyecto 1 aplicando los nuevos conocimientos adquiridos.\n",
    "Siguiendo la guía de trabajo sugerida, se divide en 3 partes:\n",
    "\n",
    "- PARTE A - Transformación de Datos: \n",
    "\n",
    "    Considero esta instancia la más importante para que luego los modelos funcionen. De hecho, los resultados de los modelos que apliqué en el proyecto 1 se vieron mejorados luego de la limpieza y transformación de dataset. En esta sección se trabajó de la siguiente manera: \n",
    "    * Eliminando columnas: Decidí no utilizar ciertas columnas que no iba a utilizar (justificado más abajo) para quitarle ruido al dataset. \n",
    "    * Eliminación de valores atípicos: Se analizaron y extrageron los valores atípicos a través de la delimitación de rango intercuartílico.\n",
    "    * Tratamiento sobre valores faltantes: se eliminaron algunas categorías y se reemplazaron valores los valores de la mediana de los subconjuntos o grupos elegidos. \n",
    "    * Escalamiento de datos: Debido a la diversidad de la naturaleza de los datos se escalaron con un standard scaler.\n",
    "    * Transformación de variables categóricas: Luego de la escalada, se trabajó sobre las variables categóricas. A causa del tamaño que adquirió el dataset, se aplicó una reducción de dimensionalidad con PCA. Esto nos ayuda a trabajar inclusive computacionalmente mejor sobre el dataset.\n",
    "    \n",
    "    Las decisiones del orden de todos los pasos no son aleatorias, sino que responden a la lógica de lo que se está trabajando y de lo que se quiere conseguir: crear un modelo para poder determinar el precio de la manera más precisa posible de una propiedad\n",
    "\n",
    "\n",
    "- PARTE B - Aplicación de Modelos Avanzados:\n",
    "\n",
    "    En este caso, se han aplicado los modelos de random forest regression, ya que el modelo de árboles fue el que mejor resultados arrojó en el proyecto 1. También se aplicó un modelo de regresión lineal con polynomial features regularizados con Lasso y Ridge. La conslusión, como ser verá más adelante, es que el modelo de Random Forest es el que mejor resultados arrojó. \n",
    "    \n",
    "- PARTE C - Interpretación de modelos\n",
    "\n",
    "Debido a haber aplicado PCA en la transformación de los datos, se nos hace muy difícil explicar los atributos más relevantes, sin embargo, se pueden sacar algunas conclusiones importantes que se verán más adelante."
   ]
  },
  {
   "cell_type": "markdown",
   "metadata": {},
   "source": [
    "## <span style=\"color:blue\"> PARTE A: Limpieza del dataset </span>"
   ]
  },
  {
   "cell_type": "markdown",
   "metadata": {},
   "source": [
    "*Importamos librerías esenciales y el dataset*"
   ]
  },
  {
   "cell_type": "code",
   "execution_count": 3,
   "metadata": {},
   "outputs": [],
   "source": [
    "import numpy as np\n",
    "import pandas as pd\n",
    "import seaborn as sns\n",
    "import matplotlib as plt\n",
    "import matplotlib.pyplot as plt"
   ]
  },
  {
   "cell_type": "code",
   "execution_count": 4,
   "metadata": {},
   "outputs": [
    {
     "data": {
      "text/html": [
       "<div>\n",
       "<style scoped>\n",
       "    .dataframe tbody tr th:only-of-type {\n",
       "        vertical-align: middle;\n",
       "    }\n",
       "\n",
       "    .dataframe tbody tr th {\n",
       "        vertical-align: top;\n",
       "    }\n",
       "\n",
       "    .dataframe thead th {\n",
       "        text-align: right;\n",
       "    }\n",
       "</style>\n",
       "<table border=\"1\" class=\"dataframe\">\n",
       "  <thead>\n",
       "    <tr style=\"text-align: right;\">\n",
       "      <th></th>\n",
       "      <th>start_date</th>\n",
       "      <th>end_date</th>\n",
       "      <th>created_on</th>\n",
       "      <th>lat</th>\n",
       "      <th>lon</th>\n",
       "      <th>l1</th>\n",
       "      <th>l2</th>\n",
       "      <th>l3</th>\n",
       "      <th>rooms</th>\n",
       "      <th>bedrooms</th>\n",
       "      <th>bathrooms</th>\n",
       "      <th>surface_total</th>\n",
       "      <th>surface_covered</th>\n",
       "      <th>price</th>\n",
       "      <th>currency</th>\n",
       "      <th>title</th>\n",
       "      <th>description</th>\n",
       "      <th>property_type</th>\n",
       "      <th>operation_type</th>\n",
       "    </tr>\n",
       "  </thead>\n",
       "  <tbody>\n",
       "    <tr>\n",
       "      <th>0</th>\n",
       "      <td>2019-10-17</td>\n",
       "      <td>2019-12-23</td>\n",
       "      <td>2019-10-17</td>\n",
       "      <td>-34.605880</td>\n",
       "      <td>-58.384949</td>\n",
       "      <td>Argentina</td>\n",
       "      <td>Capital Federal</td>\n",
       "      <td>San Cristobal</td>\n",
       "      <td>7.0</td>\n",
       "      <td>7.0</td>\n",
       "      <td>2.0</td>\n",
       "      <td>140.0</td>\n",
       "      <td>140.0</td>\n",
       "      <td>153000.0</td>\n",
       "      <td>USD</td>\n",
       "      <td>***Venta semipiso centro, ideal hostel*****</td>\n",
       "      <td>DESCRIPCION DE LA PROPIEDAD: Departamento de 1...</td>\n",
       "      <td>Departamento</td>\n",
       "      <td>Venta</td>\n",
       "    </tr>\n",
       "    <tr>\n",
       "      <th>1</th>\n",
       "      <td>2019-10-17</td>\n",
       "      <td>2019-11-21</td>\n",
       "      <td>2019-10-17</td>\n",
       "      <td>-34.624056</td>\n",
       "      <td>-58.412110</td>\n",
       "      <td>Argentina</td>\n",
       "      <td>Capital Federal</td>\n",
       "      <td>Boedo</td>\n",
       "      <td>2.0</td>\n",
       "      <td>1.0</td>\n",
       "      <td>2.0</td>\n",
       "      <td>70.0</td>\n",
       "      <td>58.0</td>\n",
       "      <td>159000.0</td>\n",
       "      <td>USD</td>\n",
       "      <td>Espectacular PH reciclado en Boedo sin expensas.</td>\n",
       "      <td>PH reciclado en Boedo a una cuadra de la plaz...</td>\n",
       "      <td>PH</td>\n",
       "      <td>Venta</td>\n",
       "    </tr>\n",
       "    <tr>\n",
       "      <th>2</th>\n",
       "      <td>2019-10-17</td>\n",
       "      <td>2019-11-01</td>\n",
       "      <td>2019-10-17</td>\n",
       "      <td>-34.593569</td>\n",
       "      <td>-58.427474</td>\n",
       "      <td>Argentina</td>\n",
       "      <td>Capital Federal</td>\n",
       "      <td>Palermo</td>\n",
       "      <td>2.0</td>\n",
       "      <td>1.0</td>\n",
       "      <td>1.0</td>\n",
       "      <td>45.0</td>\n",
       "      <td>45.0</td>\n",
       "      <td>125000.0</td>\n",
       "      <td>USD</td>\n",
       "      <td>Depto.tipo casa de 2 ambientes en Venta en Pal...</td>\n",
       "      <td>2 ambienets amplio , excelente estado , patio ...</td>\n",
       "      <td>PH</td>\n",
       "      <td>Venta</td>\n",
       "    </tr>\n",
       "  </tbody>\n",
       "</table>\n",
       "</div>"
      ],
      "text/plain": [
       "   start_date    end_date  created_on        lat        lon         l1  \\\n",
       "0  2019-10-17  2019-12-23  2019-10-17 -34.605880 -58.384949  Argentina   \n",
       "1  2019-10-17  2019-11-21  2019-10-17 -34.624056 -58.412110  Argentina   \n",
       "2  2019-10-17  2019-11-01  2019-10-17 -34.593569 -58.427474  Argentina   \n",
       "\n",
       "                l2             l3  rooms  bedrooms  bathrooms  surface_total  \\\n",
       "0  Capital Federal  San Cristobal    7.0       7.0        2.0          140.0   \n",
       "1  Capital Federal          Boedo    2.0       1.0        2.0           70.0   \n",
       "2  Capital Federal        Palermo    2.0       1.0        1.0           45.0   \n",
       "\n",
       "   surface_covered     price currency  \\\n",
       "0            140.0  153000.0      USD   \n",
       "1             58.0  159000.0      USD   \n",
       "2             45.0  125000.0      USD   \n",
       "\n",
       "                                               title  \\\n",
       "0        ***Venta semipiso centro, ideal hostel*****   \n",
       "1   Espectacular PH reciclado en Boedo sin expensas.   \n",
       "2  Depto.tipo casa de 2 ambientes en Venta en Pal...   \n",
       "\n",
       "                                         description property_type  \\\n",
       "0  DESCRIPCION DE LA PROPIEDAD: Departamento de 1...  Departamento   \n",
       "1   PH reciclado en Boedo a una cuadra de la plaz...            PH   \n",
       "2  2 ambienets amplio , excelente estado , patio ...            PH   \n",
       "\n",
       "  operation_type  \n",
       "0          Venta  \n",
       "1          Venta  \n",
       "2          Venta  "
      ]
     },
     "execution_count": 4,
     "metadata": {},
     "output_type": "execute_result"
    }
   ],
   "source": [
    "data = pd.read_csv(\"DS_Proyecto_01_Datos_Properati.csv\")\n",
    "data.columns\n",
    "data.head(3)"
   ]
  },
  {
   "cell_type": "code",
   "execution_count": 5,
   "metadata": {},
   "outputs": [
    {
     "data": {
      "text/plain": [
       "(146660, 19)"
      ]
     },
     "execution_count": 5,
     "metadata": {},
     "output_type": "execute_result"
    }
   ],
   "source": [
    "data.shape"
   ]
  },
  {
   "cell_type": "markdown",
   "metadata": {},
   "source": [
    "*Eliminación de columnas*\n",
    "\n",
    "Luego del análisis de la parte 1, ya existe un conocimiento previo sobre el dataset, por lo que tengo una idea más clara sobre los atributos y variables que voy a utilizar. \n",
    "Se eliminarán duplicados y las columnas \"created_on\", \"description\", \"title\", \"lat\" y \"lon\" porque aún no podría trabajar con esos datos o algunos de ellos no los necesito en esta instancia.\n",
    "También se eliminarán los atributos \"currency\", \"l1\" y \"operation_type\" porque en todoslos casos los valores toman el mismo valor, (USD, Argentina y Venta respectivamente). Lo comprobamos a través de value_counts()"
   ]
  },
  {
   "cell_type": "code",
   "execution_count": 6,
   "metadata": {},
   "outputs": [
    {
     "data": {
      "text/plain": [
       "USD    146660\n",
       "Name: currency, dtype: int64"
      ]
     },
     "execution_count": 6,
     "metadata": {},
     "output_type": "execute_result"
    }
   ],
   "source": [
    "data[\"currency\"].value_counts()"
   ]
  },
  {
   "cell_type": "code",
   "execution_count": 7,
   "metadata": {},
   "outputs": [
    {
     "data": {
      "text/plain": [
       "Venta    146660\n",
       "Name: operation_type, dtype: int64"
      ]
     },
     "execution_count": 7,
     "metadata": {},
     "output_type": "execute_result"
    }
   ],
   "source": [
    "data[\"operation_type\"].value_counts()"
   ]
  },
  {
   "cell_type": "code",
   "execution_count": 8,
   "metadata": {},
   "outputs": [
    {
     "data": {
      "text/plain": [
       "Argentina    146660\n",
       "Name: l1, dtype: int64"
      ]
     },
     "execution_count": 8,
     "metadata": {},
     "output_type": "execute_result"
    }
   ],
   "source": [
    "data[\"l1\"].value_counts()"
   ]
  },
  {
   "cell_type": "code",
   "execution_count": 9,
   "metadata": {},
   "outputs": [],
   "source": [
    "data.drop_duplicates(inplace = True)"
   ]
  },
  {
   "cell_type": "code",
   "execution_count": 10,
   "metadata": {},
   "outputs": [],
   "source": [
    "data.drop([\"l1\", \"created_on\", \"currency\", 'title', 'description','operation_type', \"start_date\", \"end_date\", \"lat\", \"lon\"], axis=1, inplace = True)"
   ]
  },
  {
   "cell_type": "code",
   "execution_count": 11,
   "metadata": {},
   "outputs": [],
   "source": [
    "data.drop(data[data[\"surface_covered\"]>data[\"surface_total\"]].index, inplace = True)"
   ]
  },
  {
   "cell_type": "markdown",
   "metadata": {},
   "source": [
    "Obtengo un shape de 142871 filas, 9 columnas"
   ]
  },
  {
   "cell_type": "code",
   "execution_count": 12,
   "metadata": {},
   "outputs": [
    {
     "data": {
      "text/plain": [
       "(142871, 9)"
      ]
     },
     "execution_count": 12,
     "metadata": {},
     "output_type": "execute_result"
    }
   ],
   "source": [
    "data.shape"
   ]
  },
  {
   "cell_type": "markdown",
   "metadata": {},
   "source": [
    "# A1. Análisis y extracción de Valores Atípicos"
   ]
  },
  {
   "cell_type": "markdown",
   "metadata": {},
   "source": [
    "Comenzamos con el análisis y limpieza de valores atípicos ya que esto puede comenzar a excluir errores o valores faltantes de instancias que igualmente eliminaré. Además, comenzar a trabajar y tomar decisiones en base a un dataset que sesgue demasiado algunos valores puede entorpecer mucho los resultados de los modelos."
   ]
  },
  {
   "cell_type": "markdown",
   "metadata": {},
   "source": [
    "Analizo las distribuciones de los valores. Primero con describe para obtener a simple vista cómo están distribuidos los datos, y luego con gráficos de histogramas y boxplot"
   ]
  },
  {
   "cell_type": "code",
   "execution_count": 13,
   "metadata": {},
   "outputs": [
    {
     "data": {
      "text/html": [
       "<div>\n",
       "<style scoped>\n",
       "    .dataframe tbody tr th:only-of-type {\n",
       "        vertical-align: middle;\n",
       "    }\n",
       "\n",
       "    .dataframe tbody tr th {\n",
       "        vertical-align: top;\n",
       "    }\n",
       "\n",
       "    .dataframe thead th {\n",
       "        text-align: right;\n",
       "    }\n",
       "</style>\n",
       "<table border=\"1\" class=\"dataframe\">\n",
       "  <thead>\n",
       "    <tr style=\"text-align: right;\">\n",
       "      <th></th>\n",
       "      <th>rooms</th>\n",
       "      <th>bedrooms</th>\n",
       "      <th>bathrooms</th>\n",
       "      <th>surface_total</th>\n",
       "      <th>surface_covered</th>\n",
       "      <th>price</th>\n",
       "    </tr>\n",
       "  </thead>\n",
       "  <tbody>\n",
       "    <tr>\n",
       "      <th>count</th>\n",
       "      <td>142871.000000</td>\n",
       "      <td>142871.000000</td>\n",
       "      <td>136962.000000</td>\n",
       "      <td>122610.000000</td>\n",
       "      <td>121532.000000</td>\n",
       "      <td>1.428710e+05</td>\n",
       "    </tr>\n",
       "    <tr>\n",
       "      <th>mean</th>\n",
       "      <td>3.075509</td>\n",
       "      <td>1.978414</td>\n",
       "      <td>1.597385</td>\n",
       "      <td>219.694576</td>\n",
       "      <td>104.463006</td>\n",
       "      <td>2.407017e+05</td>\n",
       "    </tr>\n",
       "    <tr>\n",
       "      <th>std</th>\n",
       "      <td>1.406420</td>\n",
       "      <td>1.145377</td>\n",
       "      <td>0.886098</td>\n",
       "      <td>2066.221618</td>\n",
       "      <td>741.250119</td>\n",
       "      <td>3.153970e+05</td>\n",
       "    </tr>\n",
       "    <tr>\n",
       "      <th>min</th>\n",
       "      <td>1.000000</td>\n",
       "      <td>0.000000</td>\n",
       "      <td>1.000000</td>\n",
       "      <td>10.000000</td>\n",
       "      <td>1.000000</td>\n",
       "      <td>5.500000e+03</td>\n",
       "    </tr>\n",
       "    <tr>\n",
       "      <th>25%</th>\n",
       "      <td>2.000000</td>\n",
       "      <td>1.000000</td>\n",
       "      <td>1.000000</td>\n",
       "      <td>52.000000</td>\n",
       "      <td>47.000000</td>\n",
       "      <td>1.100000e+05</td>\n",
       "    </tr>\n",
       "    <tr>\n",
       "      <th>50%</th>\n",
       "      <td>3.000000</td>\n",
       "      <td>2.000000</td>\n",
       "      <td>1.000000</td>\n",
       "      <td>79.000000</td>\n",
       "      <td>68.000000</td>\n",
       "      <td>1.652400e+05</td>\n",
       "    </tr>\n",
       "    <tr>\n",
       "      <th>75%</th>\n",
       "      <td>4.000000</td>\n",
       "      <td>3.000000</td>\n",
       "      <td>2.000000</td>\n",
       "      <td>140.000000</td>\n",
       "      <td>108.000000</td>\n",
       "      <td>2.650000e+05</td>\n",
       "    </tr>\n",
       "    <tr>\n",
       "      <th>max</th>\n",
       "      <td>35.000000</td>\n",
       "      <td>15.000000</td>\n",
       "      <td>14.000000</td>\n",
       "      <td>193549.000000</td>\n",
       "      <td>126062.000000</td>\n",
       "      <td>3.243423e+07</td>\n",
       "    </tr>\n",
       "  </tbody>\n",
       "</table>\n",
       "</div>"
      ],
      "text/plain": [
       "               rooms       bedrooms      bathrooms  surface_total  \\\n",
       "count  142871.000000  142871.000000  136962.000000  122610.000000   \n",
       "mean        3.075509       1.978414       1.597385     219.694576   \n",
       "std         1.406420       1.145377       0.886098    2066.221618   \n",
       "min         1.000000       0.000000       1.000000      10.000000   \n",
       "25%         2.000000       1.000000       1.000000      52.000000   \n",
       "50%         3.000000       2.000000       1.000000      79.000000   \n",
       "75%         4.000000       3.000000       2.000000     140.000000   \n",
       "max        35.000000      15.000000      14.000000  193549.000000   \n",
       "\n",
       "       surface_covered         price  \n",
       "count    121532.000000  1.428710e+05  \n",
       "mean        104.463006  2.407017e+05  \n",
       "std         741.250119  3.153970e+05  \n",
       "min           1.000000  5.500000e+03  \n",
       "25%          47.000000  1.100000e+05  \n",
       "50%          68.000000  1.652400e+05  \n",
       "75%         108.000000  2.650000e+05  \n",
       "max      126062.000000  3.243423e+07  "
      ]
     },
     "execution_count": 13,
     "metadata": {},
     "output_type": "execute_result"
    }
   ],
   "source": [
    "data.describe()"
   ]
  },
  {
   "cell_type": "markdown",
   "metadata": {},
   "source": [
    "Observando dicha tabla, podemos ver que los valores máximos de casi todas las variables, especialmente las de superficie y precio, son muy altos y escapan con gran diferencia a los valores contenidos en el 75% del dataset. Estos valores desproporcionados pueden sesgar significativamente los resultados si no son analizados y limpados.\n",
    "A continuación, se visualizan con boxplots el comportamiento de las variables rooms, bedrooms, bathrooms, surface_total, surface_covered y price por tipo de propiedad para entender sus distribuciones."
   ]
  },
  {
   "cell_type": "code",
   "execution_count": 14,
   "metadata": {},
   "outputs": [
    {
     "data": {
      "text/plain": [
       "Text(0.5, 1.0, 'Precios según tipo de propiedad')"
      ]
     },
     "execution_count": 14,
     "metadata": {},
     "output_type": "execute_result"
    },
    {
     "data": {
      "image/png": "[encoded data removed]",
      "text/plain": [
       "<Figure size 1440x1101.6 with 6 Axes>"
      ]
     },
     "metadata": {
      "needs_background": "light"
     },
     "output_type": "display_data"
    }
   ],
   "source": [
    "plt.figure(figsize = (20,15.3))\n",
    "plt.subplot(2,3,1)\n",
    "ax = sns.boxplot(data = data, x = \"property_type\", y = \"rooms\")\n",
    "ax.set_xticklabels(ax.get_xticklabels(), rotation=90, ha=\"right\")\n",
    "plt.xlabel('Tipos de propiedades')\n",
    "plt.ylabel('Cantidad de ambientes')\n",
    "plt.title('Cantidad de ambientes por tipo de propiedad')\n",
    "\n",
    "plt.subplot(2,3,2)\n",
    "ax2 = sns.boxplot(data = data, x = \"property_type\", y = \"bedrooms\")\n",
    "ax2.set_xticklabels(ax2.get_xticklabels(), rotation=90, ha=\"right\")\n",
    "plt.xlabel('Tipos de propiedades')\n",
    "plt.ylabel('Cantidad de habitaciones')\n",
    "plt.title('Cantidad de habitaciones por tipo de propiedad')\n",
    "\n",
    "plt.subplot(2,3,3)\n",
    "ax3 = sns.boxplot(data = data, x = \"property_type\", y = \"bathrooms\")\n",
    "ax3.set_xticklabels(ax3.get_xticklabels(), rotation=90, ha=\"right\")\n",
    "plt.xlabel('Tipos de propiedades')\n",
    "plt.ylabel('Cantidad de baños')\n",
    "plt.title('Cantidad de baños por tipo de propiedad')\n",
    "\n",
    "plt.subplot(2,3,4)\n",
    "ax4 = sns.boxplot(data = data, x = \"property_type\", y = \"surface_total\")\n",
    "ax4.set_xticklabels(ax.get_xticklabels(), rotation=90, ha=\"right\")\n",
    "plt.xlabel('Tipos de propiedades')\n",
    "plt.ylabel('Superficie total')\n",
    "plt.title('Superficie total según tipo de propiedad')\n",
    "\n",
    "plt.subplot(2,3,5)\n",
    "ax5 = sns.boxplot(data = data, x = \"property_type\", y = \"surface_covered\")\n",
    "ax5.set_xticklabels(ax5.get_xticklabels(), rotation=90, ha=\"right\")\n",
    "plt.xlabel('Tipos de propiedades')\n",
    "plt.ylabel('Superficie cubierta')\n",
    "plt.title('Superficie cubierta según tipo de propiedad')\n",
    "\n",
    "plt.subplot(2,3,6)\n",
    "ax6 = sns.boxplot(data = data, x = \"property_type\", y = \"price\")\n",
    "ax6.set_xticklabels(ax6.get_xticklabels(), rotation=90, ha=\"right\")\n",
    "plt.xlabel('Tipos de propiedades')\n",
    "plt.ylabel('Precio')\n",
    "plt.title('Precios según tipo de propiedad')"
   ]
  },
  {
   "cell_type": "markdown",
   "metadata": {},
   "source": [
    "Efectivamente los boxplot manifiestan que las variables superficie total, superficie cubierta y precio tienen algunos outliers que, valga la redundancia, escapan muchísimo de los valores normales y desvirtuarían los resultados. Filtramos entonces nuestro dataset de outliers. Para ello utilizamos el rango intercuartílico en lugar del 3 sigma ya que no todas las variables tienen una distribución normal o tienen sesgo. "
   ]
  },
  {
   "cell_type": "markdown",
   "metadata": {},
   "source": [
    "*Delimitación de Rango Intercuartílico*"
   ]
  },
  {
   "cell_type": "code",
   "execution_count": 15,
   "metadata": {},
   "outputs": [
    {
     "data": {
      "text/plain": [
       "bathrooms           5408\n",
       "bedrooms             393\n",
       "l2                     0\n",
       "l3                     0\n",
       "price              10713\n",
       "property_type          0\n",
       "rooms               1382\n",
       "surface_covered     9547\n",
       "surface_total      13189\n",
       "dtype: int64"
      ]
     },
     "execution_count": 15,
     "metadata": {},
     "output_type": "execute_result"
    }
   ],
   "source": [
    "Q1 = data.quantile(0.25)\n",
    "Q3 = data.quantile(0.75)\n",
    "IQR = Q3 - Q1\n",
    "((data < (Q1 - 1.5 * IQR)) | (data > (Q3 + 1.5 * IQR))).sum()"
   ]
  },
  {
   "cell_type": "markdown",
   "metadata": {},
   "source": [
    "*Eliminamos los oultiers*"
   ]
  },
  {
   "cell_type": "code",
   "execution_count": 16,
   "metadata": {},
   "outputs": [
    {
     "data": {
      "text/plain": [
       "(119712, 9)"
      ]
     },
     "execution_count": 16,
     "metadata": {},
     "output_type": "execute_result"
    }
   ],
   "source": [
    "data = data[~((data < (Q1 - 1.5*IQR)) | (data > (Q3 + 1.5*IQR))).any(axis=1)]\n",
    "data.shape"
   ]
  },
  {
   "cell_type": "code",
   "execution_count": 17,
   "metadata": {},
   "outputs": [
    {
     "data": {
      "text/html": [
       "<div>\n",
       "<style scoped>\n",
       "    .dataframe tbody tr th:only-of-type {\n",
       "        vertical-align: middle;\n",
       "    }\n",
       "\n",
       "    .dataframe tbody tr th {\n",
       "        vertical-align: top;\n",
       "    }\n",
       "\n",
       "    .dataframe thead th {\n",
       "        text-align: right;\n",
       "    }\n",
       "</style>\n",
       "<table border=\"1\" class=\"dataframe\">\n",
       "  <thead>\n",
       "    <tr style=\"text-align: right;\">\n",
       "      <th></th>\n",
       "      <th>rooms</th>\n",
       "      <th>bedrooms</th>\n",
       "      <th>bathrooms</th>\n",
       "      <th>surface_total</th>\n",
       "      <th>surface_covered</th>\n",
       "      <th>price</th>\n",
       "    </tr>\n",
       "  </thead>\n",
       "  <tbody>\n",
       "    <tr>\n",
       "      <th>count</th>\n",
       "      <td>119712.000000</td>\n",
       "      <td>119712.000000</td>\n",
       "      <td>114859.000000</td>\n",
       "      <td>101283.000000</td>\n",
       "      <td>100898.000000</td>\n",
       "      <td>119712.000000</td>\n",
       "    </tr>\n",
       "    <tr>\n",
       "      <th>mean</th>\n",
       "      <td>2.762647</td>\n",
       "      <td>1.744645</td>\n",
       "      <td>1.382356</td>\n",
       "      <td>81.399524</td>\n",
       "      <td>67.980000</td>\n",
       "      <td>175397.484362</td>\n",
       "    </tr>\n",
       "    <tr>\n",
       "      <th>std</th>\n",
       "      <td>1.070417</td>\n",
       "      <td>0.941032</td>\n",
       "      <td>0.591290</td>\n",
       "      <td>45.732562</td>\n",
       "      <td>32.281058</td>\n",
       "      <td>93344.776933</td>\n",
       "    </tr>\n",
       "    <tr>\n",
       "      <th>min</th>\n",
       "      <td>1.000000</td>\n",
       "      <td>0.000000</td>\n",
       "      <td>1.000000</td>\n",
       "      <td>10.000000</td>\n",
       "      <td>1.000000</td>\n",
       "      <td>6000.000000</td>\n",
       "    </tr>\n",
       "    <tr>\n",
       "      <th>25%</th>\n",
       "      <td>2.000000</td>\n",
       "      <td>1.000000</td>\n",
       "      <td>1.000000</td>\n",
       "      <td>49.000000</td>\n",
       "      <td>44.000000</td>\n",
       "      <td>105000.000000</td>\n",
       "    </tr>\n",
       "    <tr>\n",
       "      <th>50%</th>\n",
       "      <td>3.000000</td>\n",
       "      <td>2.000000</td>\n",
       "      <td>1.000000</td>\n",
       "      <td>68.000000</td>\n",
       "      <td>60.000000</td>\n",
       "      <td>150000.000000</td>\n",
       "    </tr>\n",
       "    <tr>\n",
       "      <th>75%</th>\n",
       "      <td>3.000000</td>\n",
       "      <td>2.000000</td>\n",
       "      <td>2.000000</td>\n",
       "      <td>100.000000</td>\n",
       "      <td>83.000000</td>\n",
       "      <td>225000.000000</td>\n",
       "    </tr>\n",
       "    <tr>\n",
       "      <th>max</th>\n",
       "      <td>7.000000</td>\n",
       "      <td>6.000000</td>\n",
       "      <td>3.000000</td>\n",
       "      <td>272.000000</td>\n",
       "      <td>199.000000</td>\n",
       "      <td>497500.000000</td>\n",
       "    </tr>\n",
       "  </tbody>\n",
       "</table>\n",
       "</div>"
      ],
      "text/plain": [
       "               rooms       bedrooms      bathrooms  surface_total  \\\n",
       "count  119712.000000  119712.000000  114859.000000  101283.000000   \n",
       "mean        2.762647       1.744645       1.382356      81.399524   \n",
       "std         1.070417       0.941032       0.591290      45.732562   \n",
       "min         1.000000       0.000000       1.000000      10.000000   \n",
       "25%         2.000000       1.000000       1.000000      49.000000   \n",
       "50%         3.000000       2.000000       1.000000      68.000000   \n",
       "75%         3.000000       2.000000       2.000000     100.000000   \n",
       "max         7.000000       6.000000       3.000000     272.000000   \n",
       "\n",
       "       surface_covered          price  \n",
       "count    100898.000000  119712.000000  \n",
       "mean         67.980000  175397.484362  \n",
       "std          32.281058   93344.776933  \n",
       "min           1.000000    6000.000000  \n",
       "25%          44.000000  105000.000000  \n",
       "50%          60.000000  150000.000000  \n",
       "75%          83.000000  225000.000000  \n",
       "max         199.000000  497500.000000  "
      ]
     },
     "execution_count": 17,
     "metadata": {},
     "output_type": "execute_result"
    }
   ],
   "source": [
    "data.describe()"
   ]
  },
  {
   "cell_type": "markdown",
   "metadata": {},
   "source": [
    "Ahora los valores máximos son más razonables. En los siguientes gráficos podemos observar cómo es la distribución de los mismos en un histograma y en boxplot. Éstos gráficos ya van arrojando información interesante de cómo son las distribuciones por tipo de propiedad también. Notar que al evaluar los datos en función del tipo de propiedad ya me va dándo una idea de cómo se ordenan los datos en función de una variable que hasta el momento, considero importante. "
   ]
  },
  {
   "cell_type": "code",
   "execution_count": 18,
   "metadata": {},
   "outputs": [
    {
     "data": {
      "image/png": "[encoded data removed]",
      "text/plain": [
       "<Figure size 1368x1512 with 12 Axes>"
      ]
     },
     "metadata": {
      "needs_background": "light"
     },
     "output_type": "display_data"
    }
   ],
   "source": [
    "#cómo le pongo título a este gráfico?\n",
    "aux=1\n",
    "plt.figure(figsize=(19,21))\n",
    "for i in range(2,8):\n",
    "    plt.subplot(6,2, aux)\n",
    "    sns.distplot(data.iloc[:, i], bins=30)\n",
    "    \n",
    "    plt.subplot(6,2,aux+1)\n",
    "    sns.boxplot(data= data, x='property_type', y=data.iloc[:, i])\n",
    "    aux+=2"
   ]
  },
  {
   "cell_type": "markdown",
   "metadata": {},
   "source": [
    "# A2. Valores Faltantes"
   ]
  },
  {
   "cell_type": "markdown",
   "metadata": {},
   "source": [
    "Con el dataset libre de outliers, analizo la cantidad de valores faltantes por atributo:"
   ]
  },
  {
   "cell_type": "code",
   "execution_count": 19,
   "metadata": {},
   "outputs": [
    {
     "data": {
      "text/plain": [
       "l2                     0\n",
       "l3                     0\n",
       "rooms                  0\n",
       "bedrooms               0\n",
       "bathrooms           4853\n",
       "surface_total      18429\n",
       "surface_covered    18814\n",
       "price                  0\n",
       "property_type          0\n",
       "dtype: int64"
      ]
     },
     "execution_count": 19,
     "metadata": {},
     "output_type": "execute_result"
    }
   ],
   "source": [
    "mis_val = data.isnull().sum()\n",
    "mis_val"
   ]
  },
  {
   "cell_type": "markdown",
   "metadata": {},
   "source": [
    "Y cómo se distribuyen los valores no faltantes en porcentaje por tipo de propiedad"
   ]
  },
  {
   "cell_type": "code",
   "execution_count": 20,
   "metadata": {},
   "outputs": [
    {
     "data": {
      "text/plain": [
       "Departamento       79.545910\n",
       "PH                 10.582064\n",
       "Casa                8.168772\n",
       "Oficina             0.494520\n",
       "Lote                0.484496\n",
       "Cochera             0.216353\n",
       "Local comercial     0.207164\n",
       "Otro                0.136995\n",
       "Depósito            0.121124\n",
       "Casa de campo       0.042602\n",
       "Name: property_type, dtype: float64"
      ]
     },
     "execution_count": 20,
     "metadata": {},
     "output_type": "execute_result"
    }
   ],
   "source": [
    "data[\"property_type\"].value_counts(normalize = True)*100"
   ]
  },
  {
   "cell_type": "markdown",
   "metadata": {},
   "source": [
    "Para trabajar más cómodamente con los valores faltantes, se realiza un nuevo dataset sólo con aquellas columnas con valores faltantes incluyendo la variable property_type, que además de contener todos los valores, nos sirve para el análisis."
   ]
  },
  {
   "cell_type": "code",
   "execution_count": 21,
   "metadata": {},
   "outputs": [
    {
     "data": {
      "text/html": [
       "<div>\n",
       "<style scoped>\n",
       "    .dataframe tbody tr th:only-of-type {\n",
       "        vertical-align: middle;\n",
       "    }\n",
       "\n",
       "    .dataframe tbody tr th {\n",
       "        vertical-align: top;\n",
       "    }\n",
       "\n",
       "    .dataframe thead th {\n",
       "        text-align: right;\n",
       "    }\n",
       "</style>\n",
       "<table border=\"1\" class=\"dataframe\">\n",
       "  <thead>\n",
       "    <tr style=\"text-align: right;\">\n",
       "      <th></th>\n",
       "      <th>bathrooms</th>\n",
       "      <th>surface_total</th>\n",
       "      <th>surface_covered</th>\n",
       "      <th>property_type</th>\n",
       "    </tr>\n",
       "  </thead>\n",
       "  <tbody>\n",
       "    <tr>\n",
       "      <th>1</th>\n",
       "      <td>2.0</td>\n",
       "      <td>70.0</td>\n",
       "      <td>58.0</td>\n",
       "      <td>PH</td>\n",
       "    </tr>\n",
       "    <tr>\n",
       "      <th>2</th>\n",
       "      <td>1.0</td>\n",
       "      <td>45.0</td>\n",
       "      <td>45.0</td>\n",
       "      <td>PH</td>\n",
       "    </tr>\n",
       "    <tr>\n",
       "      <th>3</th>\n",
       "      <td>1.0</td>\n",
       "      <td>85.0</td>\n",
       "      <td>50.0</td>\n",
       "      <td>PH</td>\n",
       "    </tr>\n",
       "    <tr>\n",
       "      <th>4</th>\n",
       "      <td>1.0</td>\n",
       "      <td>50.0</td>\n",
       "      <td>35.0</td>\n",
       "      <td>PH</td>\n",
       "    </tr>\n",
       "    <tr>\n",
       "      <th>5</th>\n",
       "      <td>1.0</td>\n",
       "      <td>56.0</td>\n",
       "      <td>56.0</td>\n",
       "      <td>PH</td>\n",
       "    </tr>\n",
       "  </tbody>\n",
       "</table>\n",
       "</div>"
      ],
      "text/plain": [
       "   bathrooms  surface_total  surface_covered property_type\n",
       "1        2.0           70.0             58.0            PH\n",
       "2        1.0           45.0             45.0            PH\n",
       "3        1.0           85.0             50.0            PH\n",
       "4        1.0           50.0             35.0            PH\n",
       "5        1.0           56.0             56.0            PH"
      ]
     },
     "execution_count": 21,
     "metadata": {},
     "output_type": "execute_result"
    }
   ],
   "source": [
    "data_VF = data.drop(['rooms','bedrooms', \"l2\", \"l3\", \"price\"], axis=1)\n",
    "data_VF.shape\n",
    "data_VF.head()"
   ]
  },
  {
   "cell_type": "code",
   "execution_count": 22,
   "metadata": {},
   "outputs": [
    {
     "data": {
      "text/plain": [
       "bathrooms           4853\n",
       "surface_total      18429\n",
       "surface_covered    18814\n",
       "property_type          0\n",
       "dtype: int64"
      ]
     },
     "execution_count": 22,
     "metadata": {},
     "output_type": "execute_result"
    }
   ],
   "source": [
    "mis_val_vf = data_VF.isnull().sum()\n",
    "mis_val_vf"
   ]
  },
  {
   "cell_type": "markdown",
   "metadata": {},
   "source": [
    "Se realiza un pairpot para ver el comportamiento de las variables. A simple viste se observa una relación entre superficie total y superficie cubierta. "
   ]
  },
  {
   "cell_type": "code",
   "execution_count": 23,
   "metadata": {},
   "outputs": [
    {
     "name": "stderr",
     "output_type": "stream",
     "text": [
      "/Users/eugeniasandrone/opt/miniconda3/envs/datascience/lib/python3.8/site-packages/seaborn/distributions.py:283: UserWarning: Data must have variance to compute a kernel density estimate.\n",
      "  warnings.warn(msg, UserWarning)\n",
      "/Users/eugeniasandrone/opt/miniconda3/envs/datascience/lib/python3.8/site-packages/seaborn/distributions.py:283: UserWarning: Data must have variance to compute a kernel density estimate.\n",
      "  warnings.warn(msg, UserWarning)\n"
     ]
    },
    {
     "data": {
      "image/png": "[encoded data removed]",
      "text/plain": [
       "<Figure size 653.5x540 with 12 Axes>"
      ]
     },
     "metadata": {
      "needs_background": "light"
     },
     "output_type": "display_data"
    }
   ],
   "source": [
    "sns.pairplot(data_VF, hue = 'property_type')\n",
    "plt.show()"
   ]
  },
  {
   "cell_type": "markdown",
   "metadata": {},
   "source": [
    "*Distribución de VF por tipo de propiedad*\n",
    "\n",
    "Como property_type es una variable sin valores faltantes y un indicador importante para determinar el precio, analizo en qué porcentaje faltan o no valores por cada tipo de propiedad."
   ]
  },
  {
   "cell_type": "markdown",
   "metadata": {},
   "source": [
    "*Valores Faltantes en BATHROOM*"
   ]
  },
  {
   "cell_type": "code",
   "execution_count": 24,
   "metadata": {},
   "outputs": [
    {
     "data": {
      "text/html": [
       "<div>\n",
       "<style scoped>\n",
       "    .dataframe tbody tr th:only-of-type {\n",
       "        vertical-align: middle;\n",
       "    }\n",
       "\n",
       "    .dataframe tbody tr th {\n",
       "        vertical-align: top;\n",
       "    }\n",
       "\n",
       "    .dataframe thead th {\n",
       "        text-align: right;\n",
       "    }\n",
       "</style>\n",
       "<table border=\"1\" class=\"dataframe\">\n",
       "  <thead>\n",
       "    <tr style=\"text-align: right;\">\n",
       "      <th></th>\n",
       "      <th>property_type</th>\n",
       "      <th>Valores_NA</th>\n",
       "      <th>Valores_no_NA</th>\n",
       "      <th>% faltantes</th>\n",
       "      <th>% NO_faltantes</th>\n",
       "    </tr>\n",
       "  </thead>\n",
       "  <tbody>\n",
       "    <tr>\n",
       "      <th>0</th>\n",
       "      <td>Casa</td>\n",
       "      <td>972</td>\n",
       "      <td>8807</td>\n",
       "      <td>9.939667</td>\n",
       "      <td>90.060333</td>\n",
       "    </tr>\n",
       "    <tr>\n",
       "      <th>1</th>\n",
       "      <td>Casa de campo</td>\n",
       "      <td>14</td>\n",
       "      <td>37</td>\n",
       "      <td>27.450980</td>\n",
       "      <td>72.549020</td>\n",
       "    </tr>\n",
       "    <tr>\n",
       "      <th>2</th>\n",
       "      <td>Cochera</td>\n",
       "      <td>250</td>\n",
       "      <td>9</td>\n",
       "      <td>96.525097</td>\n",
       "      <td>3.474903</td>\n",
       "    </tr>\n",
       "    <tr>\n",
       "      <th>3</th>\n",
       "      <td>Departamento</td>\n",
       "      <td>2589</td>\n",
       "      <td>92637</td>\n",
       "      <td>2.718795</td>\n",
       "      <td>97.281205</td>\n",
       "    </tr>\n",
       "    <tr>\n",
       "      <th>4</th>\n",
       "      <td>Depósito</td>\n",
       "      <td>117</td>\n",
       "      <td>28</td>\n",
       "      <td>80.689655</td>\n",
       "      <td>19.310345</td>\n",
       "    </tr>\n",
       "    <tr>\n",
       "      <th>5</th>\n",
       "      <td>Local comercial</td>\n",
       "      <td>117</td>\n",
       "      <td>131</td>\n",
       "      <td>47.177419</td>\n",
       "      <td>52.822581</td>\n",
       "    </tr>\n",
       "    <tr>\n",
       "      <th>6</th>\n",
       "      <td>Lote</td>\n",
       "      <td>454</td>\n",
       "      <td>126</td>\n",
       "      <td>78.275862</td>\n",
       "      <td>21.724138</td>\n",
       "    </tr>\n",
       "    <tr>\n",
       "      <th>7</th>\n",
       "      <td>Oficina</td>\n",
       "      <td>107</td>\n",
       "      <td>485</td>\n",
       "      <td>18.074324</td>\n",
       "      <td>81.925676</td>\n",
       "    </tr>\n",
       "    <tr>\n",
       "      <th>8</th>\n",
       "      <td>Otro</td>\n",
       "      <td>79</td>\n",
       "      <td>85</td>\n",
       "      <td>48.170732</td>\n",
       "      <td>51.829268</td>\n",
       "    </tr>\n",
       "    <tr>\n",
       "      <th>9</th>\n",
       "      <td>PH</td>\n",
       "      <td>154</td>\n",
       "      <td>12514</td>\n",
       "      <td>1.215662</td>\n",
       "      <td>98.784338</td>\n",
       "    </tr>\n",
       "  </tbody>\n",
       "</table>\n",
       "</div>"
      ],
      "text/plain": [
       "     property_type  Valores_NA  Valores_no_NA  % faltantes  % NO_faltantes\n",
       "0             Casa         972           8807     9.939667       90.060333\n",
       "1    Casa de campo          14             37    27.450980       72.549020\n",
       "2          Cochera         250              9    96.525097        3.474903\n",
       "3     Departamento        2589          92637     2.718795       97.281205\n",
       "4         Depósito         117             28    80.689655       19.310345\n",
       "5  Local comercial         117            131    47.177419       52.822581\n",
       "6             Lote         454            126    78.275862       21.724138\n",
       "7          Oficina         107            485    18.074324       81.925676\n",
       "8             Otro          79             85    48.170732       51.829268\n",
       "9               PH         154          12514     1.215662       98.784338"
      ]
     },
     "execution_count": 24,
     "metadata": {},
     "output_type": "execute_result"
    }
   ],
   "source": [
    "data_VF = data.property_type[(data.bathrooms.isnull())].groupby([data.property_type]).size().reset_index(name='Valores_NA')\n",
    "data_VF['Valores_no_NA'] = data.property_type[(data.bathrooms.isnull()==False )].groupby([data.property_type]).size().reset_index(name='Valores_NA').iloc[:,1]\n",
    "\n",
    "data_VF['% faltantes'] = data_VF['Valores_NA'] / (data_VF['Valores_no_NA']+data_VF['Valores_NA'])*100\n",
    "data_VF['% NO_faltantes'] = 100 - data_VF['% faltantes'] \n",
    "data_VF"
   ]
  },
  {
   "cell_type": "markdown",
   "metadata": {},
   "source": [
    "*Valores Faltantes en SURFACE COVERED*"
   ]
  },
  {
   "cell_type": "code",
   "execution_count": 25,
   "metadata": {},
   "outputs": [
    {
     "data": {
      "text/html": [
       "<div>\n",
       "<style scoped>\n",
       "    .dataframe tbody tr th:only-of-type {\n",
       "        vertical-align: middle;\n",
       "    }\n",
       "\n",
       "    .dataframe tbody tr th {\n",
       "        vertical-align: top;\n",
       "    }\n",
       "\n",
       "    .dataframe thead th {\n",
       "        text-align: right;\n",
       "    }\n",
       "</style>\n",
       "<table border=\"1\" class=\"dataframe\">\n",
       "  <thead>\n",
       "    <tr style=\"text-align: right;\">\n",
       "      <th></th>\n",
       "      <th>property_type</th>\n",
       "      <th>Valores_NA</th>\n",
       "      <th>Valores_no_NA</th>\n",
       "      <th>% faltantes</th>\n",
       "      <th>% NO_faltantes</th>\n",
       "    </tr>\n",
       "  </thead>\n",
       "  <tbody>\n",
       "    <tr>\n",
       "      <th>0</th>\n",
       "      <td>Casa</td>\n",
       "      <td>4030</td>\n",
       "      <td>5749</td>\n",
       "      <td>41.210758</td>\n",
       "      <td>58.789242</td>\n",
       "    </tr>\n",
       "    <tr>\n",
       "      <th>1</th>\n",
       "      <td>Casa de campo</td>\n",
       "      <td>50</td>\n",
       "      <td>1</td>\n",
       "      <td>98.039216</td>\n",
       "      <td>1.960784</td>\n",
       "    </tr>\n",
       "    <tr>\n",
       "      <th>2</th>\n",
       "      <td>Cochera</td>\n",
       "      <td>257</td>\n",
       "      <td>2</td>\n",
       "      <td>99.227799</td>\n",
       "      <td>0.772201</td>\n",
       "    </tr>\n",
       "    <tr>\n",
       "      <th>3</th>\n",
       "      <td>Departamento</td>\n",
       "      <td>13020</td>\n",
       "      <td>82206</td>\n",
       "      <td>13.672736</td>\n",
       "      <td>86.327264</td>\n",
       "    </tr>\n",
       "    <tr>\n",
       "      <th>4</th>\n",
       "      <td>Depósito</td>\n",
       "      <td>143</td>\n",
       "      <td>2</td>\n",
       "      <td>98.620690</td>\n",
       "      <td>1.379310</td>\n",
       "    </tr>\n",
       "    <tr>\n",
       "      <th>5</th>\n",
       "      <td>Local comercial</td>\n",
       "      <td>234</td>\n",
       "      <td>14</td>\n",
       "      <td>94.354839</td>\n",
       "      <td>5.645161</td>\n",
       "    </tr>\n",
       "    <tr>\n",
       "      <th>6</th>\n",
       "      <td>Lote</td>\n",
       "      <td>570</td>\n",
       "      <td>10</td>\n",
       "      <td>98.275862</td>\n",
       "      <td>1.724138</td>\n",
       "    </tr>\n",
       "    <tr>\n",
       "      <th>7</th>\n",
       "      <td>Oficina</td>\n",
       "      <td>264</td>\n",
       "      <td>328</td>\n",
       "      <td>44.594595</td>\n",
       "      <td>55.405405</td>\n",
       "    </tr>\n",
       "    <tr>\n",
       "      <th>8</th>\n",
       "      <td>Otro</td>\n",
       "      <td>102</td>\n",
       "      <td>62</td>\n",
       "      <td>62.195122</td>\n",
       "      <td>37.804878</td>\n",
       "    </tr>\n",
       "    <tr>\n",
       "      <th>9</th>\n",
       "      <td>PH</td>\n",
       "      <td>144</td>\n",
       "      <td>12524</td>\n",
       "      <td>1.136722</td>\n",
       "      <td>98.863278</td>\n",
       "    </tr>\n",
       "  </tbody>\n",
       "</table>\n",
       "</div>"
      ],
      "text/plain": [
       "     property_type  Valores_NA  Valores_no_NA  % faltantes  % NO_faltantes\n",
       "0             Casa        4030           5749    41.210758       58.789242\n",
       "1    Casa de campo          50              1    98.039216        1.960784\n",
       "2          Cochera         257              2    99.227799        0.772201\n",
       "3     Departamento       13020          82206    13.672736       86.327264\n",
       "4         Depósito         143              2    98.620690        1.379310\n",
       "5  Local comercial         234             14    94.354839        5.645161\n",
       "6             Lote         570             10    98.275862        1.724138\n",
       "7          Oficina         264            328    44.594595       55.405405\n",
       "8             Otro         102             62    62.195122       37.804878\n",
       "9               PH         144          12524     1.136722       98.863278"
      ]
     },
     "execution_count": 25,
     "metadata": {},
     "output_type": "execute_result"
    }
   ],
   "source": [
    "data_VF = data.property_type[(data.surface_covered.isnull())].groupby([data.property_type]).size().reset_index(name='Valores_NA')\n",
    "data_VF['Valores_no_NA'] = data.property_type[(data.surface_covered.isnull()==False )].groupby([data.property_type]).size().reset_index(name='Valores_NA').iloc[:,1]\n",
    "\n",
    "data_VF['% faltantes'] = data_VF['Valores_NA'] / (data_VF['Valores_no_NA']+data_VF['Valores_NA'])*100\n",
    "data_VF['% NO_faltantes'] = 100 - data_VF['% faltantes'] \n",
    "data_VF"
   ]
  },
  {
   "cell_type": "markdown",
   "metadata": {},
   "source": [
    "*Valores Faltantes en SURFACE TOTAL*"
   ]
  },
  {
   "cell_type": "code",
   "execution_count": 26,
   "metadata": {},
   "outputs": [
    {
     "data": {
      "text/html": [
       "<div>\n",
       "<style scoped>\n",
       "    .dataframe tbody tr th:only-of-type {\n",
       "        vertical-align: middle;\n",
       "    }\n",
       "\n",
       "    .dataframe tbody tr th {\n",
       "        vertical-align: top;\n",
       "    }\n",
       "\n",
       "    .dataframe thead th {\n",
       "        text-align: right;\n",
       "    }\n",
       "</style>\n",
       "<table border=\"1\" class=\"dataframe\">\n",
       "  <thead>\n",
       "    <tr style=\"text-align: right;\">\n",
       "      <th></th>\n",
       "      <th>property_type</th>\n",
       "      <th>Valores_NA</th>\n",
       "      <th>Valores_no_NA</th>\n",
       "      <th>% faltantes</th>\n",
       "      <th>% NO_faltantes</th>\n",
       "    </tr>\n",
       "  </thead>\n",
       "  <tbody>\n",
       "    <tr>\n",
       "      <th>0</th>\n",
       "      <td>Casa</td>\n",
       "      <td>4075</td>\n",
       "      <td>5704</td>\n",
       "      <td>41.670927</td>\n",
       "      <td>58.329073</td>\n",
       "    </tr>\n",
       "    <tr>\n",
       "      <th>1</th>\n",
       "      <td>Casa de campo</td>\n",
       "      <td>50</td>\n",
       "      <td>1</td>\n",
       "      <td>98.039216</td>\n",
       "      <td>1.960784</td>\n",
       "    </tr>\n",
       "    <tr>\n",
       "      <th>2</th>\n",
       "      <td>Cochera</td>\n",
       "      <td>257</td>\n",
       "      <td>2</td>\n",
       "      <td>99.227799</td>\n",
       "      <td>0.772201</td>\n",
       "    </tr>\n",
       "    <tr>\n",
       "      <th>3</th>\n",
       "      <td>Departamento</td>\n",
       "      <td>12743</td>\n",
       "      <td>82483</td>\n",
       "      <td>13.381849</td>\n",
       "      <td>86.618151</td>\n",
       "    </tr>\n",
       "    <tr>\n",
       "      <th>4</th>\n",
       "      <td>Depósito</td>\n",
       "      <td>143</td>\n",
       "      <td>2</td>\n",
       "      <td>98.620690</td>\n",
       "      <td>1.379310</td>\n",
       "    </tr>\n",
       "    <tr>\n",
       "      <th>5</th>\n",
       "      <td>Local comercial</td>\n",
       "      <td>233</td>\n",
       "      <td>15</td>\n",
       "      <td>93.951613</td>\n",
       "      <td>6.048387</td>\n",
       "    </tr>\n",
       "    <tr>\n",
       "      <th>6</th>\n",
       "      <td>Lote</td>\n",
       "      <td>462</td>\n",
       "      <td>118</td>\n",
       "      <td>79.655172</td>\n",
       "      <td>20.344828</td>\n",
       "    </tr>\n",
       "    <tr>\n",
       "      <th>7</th>\n",
       "      <td>Oficina</td>\n",
       "      <td>248</td>\n",
       "      <td>344</td>\n",
       "      <td>41.891892</td>\n",
       "      <td>58.108108</td>\n",
       "    </tr>\n",
       "    <tr>\n",
       "      <th>8</th>\n",
       "      <td>Otro</td>\n",
       "      <td>99</td>\n",
       "      <td>65</td>\n",
       "      <td>60.365854</td>\n",
       "      <td>39.634146</td>\n",
       "    </tr>\n",
       "    <tr>\n",
       "      <th>9</th>\n",
       "      <td>PH</td>\n",
       "      <td>119</td>\n",
       "      <td>12549</td>\n",
       "      <td>0.939375</td>\n",
       "      <td>99.060625</td>\n",
       "    </tr>\n",
       "  </tbody>\n",
       "</table>\n",
       "</div>"
      ],
      "text/plain": [
       "     property_type  Valores_NA  Valores_no_NA  % faltantes  % NO_faltantes\n",
       "0             Casa        4075           5704    41.670927       58.329073\n",
       "1    Casa de campo          50              1    98.039216        1.960784\n",
       "2          Cochera         257              2    99.227799        0.772201\n",
       "3     Departamento       12743          82483    13.381849       86.618151\n",
       "4         Depósito         143              2    98.620690        1.379310\n",
       "5  Local comercial         233             15    93.951613        6.048387\n",
       "6             Lote         462            118    79.655172       20.344828\n",
       "7          Oficina         248            344    41.891892       58.108108\n",
       "8             Otro          99             65    60.365854       39.634146\n",
       "9               PH         119          12549     0.939375       99.060625"
      ]
     },
     "execution_count": 26,
     "metadata": {},
     "output_type": "execute_result"
    }
   ],
   "source": [
    "data_VF = data.property_type[(data.surface_total.isnull())].groupby([data.property_type]).size().reset_index(name='Valores_NA')\n",
    "data_VF['Valores_no_NA'] = data.property_type[(data.surface_total.isnull()==False )].groupby([data.property_type]).size().reset_index(name='Valores_NA').iloc[:,1]\n",
    "\n",
    "data_VF['% faltantes'] = data_VF['Valores_NA'] / (data_VF['Valores_no_NA']+data_VF['Valores_NA'])*100\n",
    "data_VF['% NO_faltantes'] = 100 - data_VF['% faltantes'] \n",
    "data_VF"
   ]
  },
  {
   "cell_type": "markdown",
   "metadata": {},
   "source": [
    "Las tablas anteriores ya arrojan mucha información. Principalmente en cuanto a cuáles son los tipos de propiedades que tienen mayor cantidad de valores faltantes.\n",
    "Por defecto, cochera, depósito y Lote tendrán menos valores en baños y superficie, o porque no tienen (en caso de baño), o porque son por defecto (en caso de superficie), o porque no hay diferencia entre superficie cubierta o total.\n",
    "Si bien se podrían reemplazar en algunos casos ciertos valores con cero, como en el caso de baño, considero que por la cantidad de valores faltantes, por el bajo número de esos tipos de propiedad y el bajo impacto en el dataset y por ser las variables bathroom y de superficies determinantes en el precio, será mejor retirar esos tipos de propiedades y quedarme con aquellas que tenga datos más robustos. "
   ]
  },
  {
   "cell_type": "markdown",
   "metadata": {},
   "source": [
    "*Imputar valores faltantes*"
   ]
  },
  {
   "cell_type": "markdown",
   "metadata": {},
   "source": [
    "Comienzo retirando los tipos de propiedades que mencionaba antes y que no tienen demasiado peso en el dataset. Es decir, me quedo sólo con Departamento, PH y Casa."
   ]
  },
  {
   "cell_type": "code",
   "execution_count": 27,
   "metadata": {},
   "outputs": [],
   "source": [
    "data_2 = data[((data[\"property_type\"] == \"Departamento\") | (data[\"property_type\"] == \"PH\") | (data[\"property_type\"] == \"Casa\")) ]"
   ]
  },
  {
   "cell_type": "code",
   "execution_count": 28,
   "metadata": {},
   "outputs": [
    {
     "data": {
      "text/html": [
       "<div>\n",
       "<style scoped>\n",
       "    .dataframe tbody tr th:only-of-type {\n",
       "        vertical-align: middle;\n",
       "    }\n",
       "\n",
       "    .dataframe tbody tr th {\n",
       "        vertical-align: top;\n",
       "    }\n",
       "\n",
       "    .dataframe thead th {\n",
       "        text-align: right;\n",
       "    }\n",
       "</style>\n",
       "<table border=\"1\" class=\"dataframe\">\n",
       "  <thead>\n",
       "    <tr style=\"text-align: right;\">\n",
       "      <th></th>\n",
       "      <th>l2</th>\n",
       "      <th>l3</th>\n",
       "      <th>rooms</th>\n",
       "      <th>bedrooms</th>\n",
       "      <th>bathrooms</th>\n",
       "      <th>surface_total</th>\n",
       "      <th>surface_covered</th>\n",
       "      <th>price</th>\n",
       "      <th>property_type</th>\n",
       "    </tr>\n",
       "  </thead>\n",
       "  <tbody>\n",
       "    <tr>\n",
       "      <th>1</th>\n",
       "      <td>Capital Federal</td>\n",
       "      <td>Boedo</td>\n",
       "      <td>2.0</td>\n",
       "      <td>1.0</td>\n",
       "      <td>2.0</td>\n",
       "      <td>70.0</td>\n",
       "      <td>58.0</td>\n",
       "      <td>159000.0</td>\n",
       "      <td>PH</td>\n",
       "    </tr>\n",
       "    <tr>\n",
       "      <th>2</th>\n",
       "      <td>Capital Federal</td>\n",
       "      <td>Palermo</td>\n",
       "      <td>2.0</td>\n",
       "      <td>1.0</td>\n",
       "      <td>1.0</td>\n",
       "      <td>45.0</td>\n",
       "      <td>45.0</td>\n",
       "      <td>125000.0</td>\n",
       "      <td>PH</td>\n",
       "    </tr>\n",
       "    <tr>\n",
       "      <th>3</th>\n",
       "      <td>Capital Federal</td>\n",
       "      <td>Palermo</td>\n",
       "      <td>2.0</td>\n",
       "      <td>1.0</td>\n",
       "      <td>1.0</td>\n",
       "      <td>85.0</td>\n",
       "      <td>50.0</td>\n",
       "      <td>295000.0</td>\n",
       "      <td>PH</td>\n",
       "    </tr>\n",
       "    <tr>\n",
       "      <th>4</th>\n",
       "      <td>Bs.As. G.B.A. Zona Sur</td>\n",
       "      <td>La Plata</td>\n",
       "      <td>2.0</td>\n",
       "      <td>1.0</td>\n",
       "      <td>1.0</td>\n",
       "      <td>50.0</td>\n",
       "      <td>35.0</td>\n",
       "      <td>40000.0</td>\n",
       "      <td>PH</td>\n",
       "    </tr>\n",
       "    <tr>\n",
       "      <th>5</th>\n",
       "      <td>Capital Federal</td>\n",
       "      <td>Villa Crespo</td>\n",
       "      <td>2.0</td>\n",
       "      <td>1.0</td>\n",
       "      <td>1.0</td>\n",
       "      <td>56.0</td>\n",
       "      <td>56.0</td>\n",
       "      <td>150000.0</td>\n",
       "      <td>PH</td>\n",
       "    </tr>\n",
       "    <tr>\n",
       "      <th>...</th>\n",
       "      <td>...</td>\n",
       "      <td>...</td>\n",
       "      <td>...</td>\n",
       "      <td>...</td>\n",
       "      <td>...</td>\n",
       "      <td>...</td>\n",
       "      <td>...</td>\n",
       "      <td>...</td>\n",
       "      <td>...</td>\n",
       "    </tr>\n",
       "    <tr>\n",
       "      <th>146655</th>\n",
       "      <td>Bs.As. G.B.A. Zona Sur</td>\n",
       "      <td>Berazategui</td>\n",
       "      <td>2.0</td>\n",
       "      <td>1.0</td>\n",
       "      <td>1.0</td>\n",
       "      <td>54.0</td>\n",
       "      <td>48.0</td>\n",
       "      <td>165000.0</td>\n",
       "      <td>Departamento</td>\n",
       "    </tr>\n",
       "    <tr>\n",
       "      <th>146656</th>\n",
       "      <td>Bs.As. G.B.A. Zona Norte</td>\n",
       "      <td>Pilar</td>\n",
       "      <td>4.0</td>\n",
       "      <td>3.0</td>\n",
       "      <td>2.0</td>\n",
       "      <td>164.0</td>\n",
       "      <td>90.0</td>\n",
       "      <td>130000.0</td>\n",
       "      <td>Departamento</td>\n",
       "    </tr>\n",
       "    <tr>\n",
       "      <th>146657</th>\n",
       "      <td>Bs.As. G.B.A. Zona Norte</td>\n",
       "      <td>Pilar</td>\n",
       "      <td>1.0</td>\n",
       "      <td>1.0</td>\n",
       "      <td>1.0</td>\n",
       "      <td>50.0</td>\n",
       "      <td>35.0</td>\n",
       "      <td>73000.0</td>\n",
       "      <td>Departamento</td>\n",
       "    </tr>\n",
       "    <tr>\n",
       "      <th>146658</th>\n",
       "      <td>Bs.As. G.B.A. Zona Norte</td>\n",
       "      <td>Pilar</td>\n",
       "      <td>2.0</td>\n",
       "      <td>1.0</td>\n",
       "      <td>1.0</td>\n",
       "      <td>38.0</td>\n",
       "      <td>38.0</td>\n",
       "      <td>68000.0</td>\n",
       "      <td>Departamento</td>\n",
       "    </tr>\n",
       "    <tr>\n",
       "      <th>146659</th>\n",
       "      <td>Bs.As. G.B.A. Zona Norte</td>\n",
       "      <td>Pilar</td>\n",
       "      <td>3.0</td>\n",
       "      <td>2.0</td>\n",
       "      <td>1.0</td>\n",
       "      <td>75.0</td>\n",
       "      <td>75.0</td>\n",
       "      <td>98000.0</td>\n",
       "      <td>Departamento</td>\n",
       "    </tr>\n",
       "  </tbody>\n",
       "</table>\n",
       "<p>117673 rows × 9 columns</p>\n",
       "</div>"
      ],
      "text/plain": [
       "                              l2            l3  rooms  bedrooms  bathrooms  \\\n",
       "1                Capital Federal         Boedo    2.0       1.0        2.0   \n",
       "2                Capital Federal       Palermo    2.0       1.0        1.0   \n",
       "3                Capital Federal       Palermo    2.0       1.0        1.0   \n",
       "4         Bs.As. G.B.A. Zona Sur      La Plata    2.0       1.0        1.0   \n",
       "5                Capital Federal  Villa Crespo    2.0       1.0        1.0   \n",
       "...                          ...           ...    ...       ...        ...   \n",
       "146655    Bs.As. G.B.A. Zona Sur   Berazategui    2.0       1.0        1.0   \n",
       "146656  Bs.As. G.B.A. Zona Norte         Pilar    4.0       3.0        2.0   \n",
       "146657  Bs.As. G.B.A. Zona Norte         Pilar    1.0       1.0        1.0   \n",
       "146658  Bs.As. G.B.A. Zona Norte         Pilar    2.0       1.0        1.0   \n",
       "146659  Bs.As. G.B.A. Zona Norte         Pilar    3.0       2.0        1.0   \n",
       "\n",
       "        surface_total  surface_covered     price property_type  \n",
       "1                70.0             58.0  159000.0            PH  \n",
       "2                45.0             45.0  125000.0            PH  \n",
       "3                85.0             50.0  295000.0            PH  \n",
       "4                50.0             35.0   40000.0            PH  \n",
       "5                56.0             56.0  150000.0            PH  \n",
       "...               ...              ...       ...           ...  \n",
       "146655           54.0             48.0  165000.0  Departamento  \n",
       "146656          164.0             90.0  130000.0  Departamento  \n",
       "146657           50.0             35.0   73000.0  Departamento  \n",
       "146658           38.0             38.0   68000.0  Departamento  \n",
       "146659           75.0             75.0   98000.0  Departamento  \n",
       "\n",
       "[117673 rows x 9 columns]"
      ]
     },
     "execution_count": 28,
     "metadata": {},
     "output_type": "execute_result"
    }
   ],
   "source": [
    "data_2"
   ]
  },
  {
   "cell_type": "markdown",
   "metadata": {},
   "source": [
    "Compruebo la cantidad de valores faltantes en este nuevo dataset"
   ]
  },
  {
   "cell_type": "code",
   "execution_count": 31,
   "metadata": {},
   "outputs": [
    {
     "data": {
      "text/plain": [
       "l2                     0\n",
       "l3                     0\n",
       "rooms                  0\n",
       "bedrooms               0\n",
       "bathrooms           3715\n",
       "surface_total      16937\n",
       "surface_covered    17194\n",
       "price                  0\n",
       "property_type          0\n",
       "dtype: int64"
      ]
     },
     "execution_count": 31,
     "metadata": {},
     "output_type": "execute_result"
    }
   ],
   "source": [
    "mis_val_2 = data_2.isnull().sum()\n",
    "mis_val_2"
   ]
  },
  {
   "cell_type": "markdown",
   "metadata": {},
   "source": [
    "El nuevo dataset ya tiene menos valores faltantes. Para poder imputar valores, agrupamos las instancias del dataset por el tipo de propiedad, la zona (l3) y la cantidad de habitaciones (rooms) ya que ambas variables contienen todos los datos y porque, por conocimiento previo del sistema inmobiliario, sabemos que las propiedades organizadas en función de éstas variables, pueden guardar otras características similares también. Llamamos glr al Agrupamiento por tipo de propiedad, L3 y Rooms."
   ]
  },
  {
   "cell_type": "code",
   "execution_count": 32,
   "metadata": {},
   "outputs": [],
   "source": [
    "glr = data_2.groupby(['property_type', 'l3',\"rooms\"])"
   ]
  },
  {
   "cell_type": "code",
   "execution_count": 33,
   "metadata": {},
   "outputs": [
    {
     "data": {
      "text/html": [
       "<div>\n",
       "<style scoped>\n",
       "    .dataframe tbody tr th:only-of-type {\n",
       "        vertical-align: middle;\n",
       "    }\n",
       "\n",
       "    .dataframe tbody tr th {\n",
       "        vertical-align: top;\n",
       "    }\n",
       "\n",
       "    .dataframe thead th {\n",
       "        text-align: right;\n",
       "    }\n",
       "</style>\n",
       "<table border=\"1\" class=\"dataframe\">\n",
       "  <thead>\n",
       "    <tr style=\"text-align: right;\">\n",
       "      <th></th>\n",
       "      <th></th>\n",
       "      <th></th>\n",
       "      <th>l2</th>\n",
       "      <th>bedrooms</th>\n",
       "      <th>bathrooms</th>\n",
       "      <th>surface_total</th>\n",
       "      <th>surface_covered</th>\n",
       "      <th>price</th>\n",
       "    </tr>\n",
       "    <tr>\n",
       "      <th>property_type</th>\n",
       "      <th>l3</th>\n",
       "      <th>rooms</th>\n",
       "      <th></th>\n",
       "      <th></th>\n",
       "      <th></th>\n",
       "      <th></th>\n",
       "      <th></th>\n",
       "      <th></th>\n",
       "    </tr>\n",
       "  </thead>\n",
       "  <tbody>\n",
       "    <tr>\n",
       "      <th rowspan=\"5\" valign=\"top\">Casa</th>\n",
       "      <th>Abasto</th>\n",
       "      <th>4.0</th>\n",
       "      <td>Capital Federal</td>\n",
       "      <td>3.0</td>\n",
       "      <td>2.0</td>\n",
       "      <td>216.0</td>\n",
       "      <td>118.0</td>\n",
       "      <td>415000.0</td>\n",
       "    </tr>\n",
       "    <tr>\n",
       "      <th rowspan=\"3\" valign=\"top\">Agronomía</th>\n",
       "      <th>3.0</th>\n",
       "      <td>Capital Federal</td>\n",
       "      <td>2.0</td>\n",
       "      <td>1.0</td>\n",
       "      <td>185.0</td>\n",
       "      <td>125.0</td>\n",
       "      <td>260000.0</td>\n",
       "    </tr>\n",
       "    <tr>\n",
       "      <th>4.0</th>\n",
       "      <td>Capital Federal</td>\n",
       "      <td>3.0</td>\n",
       "      <td>2.0</td>\n",
       "      <td>174.0</td>\n",
       "      <td>142.0</td>\n",
       "      <td>249999.0</td>\n",
       "    </tr>\n",
       "    <tr>\n",
       "      <th>6.0</th>\n",
       "      <td>Capital Federal</td>\n",
       "      <td>5.0</td>\n",
       "      <td>2.0</td>\n",
       "      <td>NaN</td>\n",
       "      <td>NaN</td>\n",
       "      <td>355000.0</td>\n",
       "    </tr>\n",
       "    <tr>\n",
       "      <th>Almagro</th>\n",
       "      <th>2.0</th>\n",
       "      <td>Capital Federal</td>\n",
       "      <td>1.0</td>\n",
       "      <td>2.0</td>\n",
       "      <td>68.0</td>\n",
       "      <td>65.0</td>\n",
       "      <td>160000.0</td>\n",
       "    </tr>\n",
       "    <tr>\n",
       "      <th>...</th>\n",
       "      <th>...</th>\n",
       "      <th>...</th>\n",
       "      <td>...</td>\n",
       "      <td>...</td>\n",
       "      <td>...</td>\n",
       "      <td>...</td>\n",
       "      <td>...</td>\n",
       "      <td>...</td>\n",
       "    </tr>\n",
       "    <tr>\n",
       "      <th rowspan=\"5\" valign=\"top\">PH</th>\n",
       "      <th rowspan=\"5\" valign=\"top\">Villa del Parque</th>\n",
       "      <th>3.0</th>\n",
       "      <td>Capital Federal</td>\n",
       "      <td>2.0</td>\n",
       "      <td>1.0</td>\n",
       "      <td>70.0</td>\n",
       "      <td>68.0</td>\n",
       "      <td>130000.0</td>\n",
       "    </tr>\n",
       "    <tr>\n",
       "      <th>4.0</th>\n",
       "      <td>Capital Federal</td>\n",
       "      <td>3.0</td>\n",
       "      <td>1.0</td>\n",
       "      <td>170.0</td>\n",
       "      <td>98.0</td>\n",
       "      <td>220000.0</td>\n",
       "    </tr>\n",
       "    <tr>\n",
       "      <th>5.0</th>\n",
       "      <td>Capital Federal</td>\n",
       "      <td>4.0</td>\n",
       "      <td>3.0</td>\n",
       "      <td>100.0</td>\n",
       "      <td>100.0</td>\n",
       "      <td>288000.0</td>\n",
       "    </tr>\n",
       "    <tr>\n",
       "      <th>6.0</th>\n",
       "      <td>Capital Federal</td>\n",
       "      <td>3.0</td>\n",
       "      <td>2.0</td>\n",
       "      <td>160.0</td>\n",
       "      <td>160.0</td>\n",
       "      <td>224000.0</td>\n",
       "    </tr>\n",
       "    <tr>\n",
       "      <th>7.0</th>\n",
       "      <td>Capital Federal</td>\n",
       "      <td>4.0</td>\n",
       "      <td>2.0</td>\n",
       "      <td>260.0</td>\n",
       "      <td>170.0</td>\n",
       "      <td>330000.0</td>\n",
       "    </tr>\n",
       "  </tbody>\n",
       "</table>\n",
       "<p>1311 rows × 6 columns</p>\n",
       "</div>"
      ],
      "text/plain": [
       "                                                   l2  bedrooms  bathrooms  \\\n",
       "property_type l3               rooms                                         \n",
       "Casa          Abasto           4.0    Capital Federal       3.0        2.0   \n",
       "              Agronomía        3.0    Capital Federal       2.0        1.0   \n",
       "                               4.0    Capital Federal       3.0        2.0   \n",
       "                               6.0    Capital Federal       5.0        2.0   \n",
       "              Almagro          2.0    Capital Federal       1.0        2.0   \n",
       "...                                               ...       ...        ...   \n",
       "PH            Villa del Parque 3.0    Capital Federal       2.0        1.0   \n",
       "                               4.0    Capital Federal       3.0        1.0   \n",
       "                               5.0    Capital Federal       4.0        3.0   \n",
       "                               6.0    Capital Federal       3.0        2.0   \n",
       "                               7.0    Capital Federal       4.0        2.0   \n",
       "\n",
       "                                      surface_total  surface_covered     price  \n",
       "property_type l3               rooms                                            \n",
       "Casa          Abasto           4.0            216.0            118.0  415000.0  \n",
       "              Agronomía        3.0            185.0            125.0  260000.0  \n",
       "                               4.0            174.0            142.0  249999.0  \n",
       "                               6.0              NaN              NaN  355000.0  \n",
       "              Almagro          2.0             68.0             65.0  160000.0  \n",
       "...                                             ...              ...       ...  \n",
       "PH            Villa del Parque 3.0             70.0             68.0  130000.0  \n",
       "                               4.0            170.0             98.0  220000.0  \n",
       "                               5.0            100.0            100.0  288000.0  \n",
       "                               6.0            160.0            160.0  224000.0  \n",
       "                               7.0            260.0            170.0  330000.0  \n",
       "\n",
       "[1311 rows x 6 columns]"
      ]
     },
     "execution_count": 33,
     "metadata": {},
     "output_type": "execute_result"
    }
   ],
   "source": [
    "glr.first() "
   ]
  },
  {
   "cell_type": "markdown",
   "metadata": {},
   "source": [
    "Analizamos los valores estadísticos de este agrupamiento en función de la variable *bathrooms*"
   ]
  },
  {
   "cell_type": "code",
   "execution_count": 34,
   "metadata": {},
   "outputs": [
    {
     "name": "stdout",
     "output_type": "stream",
     "text": [
      "                                      median      mean       std    sum\n",
      "property_type l3               rooms                                   \n",
      "Casa          Abasto           4.0       2.0  2.000000       NaN    2.0\n",
      "              Agronomía        3.0       1.5  1.500000  0.707107    3.0\n",
      "                               4.0       2.0  1.666667  0.577350    5.0\n",
      "                               6.0       2.0  2.000000       NaN    2.0\n",
      "              Almagro          2.0       1.5  1.500000  0.707107    3.0\n",
      "...                                      ...       ...       ...    ...\n",
      "PH            Villa del Parque 3.0       1.0  1.175000  0.423322  141.0\n",
      "                               4.0       1.0  1.511628  0.589001  130.0\n",
      "                               5.0       3.0  2.413793  0.866736   70.0\n",
      "                               6.0       2.0  1.857143  0.377964   13.0\n",
      "                               7.0       2.0  2.000000  0.000000    6.0\n",
      "\n",
      "[1311 rows x 4 columns]\n"
     ]
    }
   ],
   "source": [
    "print(glr['bathrooms'].agg([np.median, np.mean, np.std, np.sum]))"
   ]
  },
  {
   "cell_type": "markdown",
   "metadata": {},
   "source": [
    "Analizamos los valores estadísticos de este agrupamiento en función de la variable *surface_total*"
   ]
  },
  {
   "cell_type": "code",
   "execution_count": 35,
   "metadata": {},
   "outputs": [
    {
     "name": "stdout",
     "output_type": "stream",
     "text": [
      "                                      median        mean        std      sum\n",
      "property_type l3               rooms                                        \n",
      "Casa          Abasto           4.0     216.0  216.000000        NaN    216.0\n",
      "              Agronomía        3.0     167.5  167.500000  24.748737    335.0\n",
      "                               4.0     174.0  202.666667  49.652123    608.0\n",
      "                               6.0       NaN         NaN        NaN      0.0\n",
      "              Almagro          2.0      66.0   66.000000   2.828427    132.0\n",
      "...                                      ...         ...        ...      ...\n",
      "PH            Villa del Parque 3.0      94.0  102.596639  33.909730  12209.0\n",
      "                               4.0     121.0  137.413793  42.667059  11955.0\n",
      "                               5.0     100.0  125.310345  40.153370   3634.0\n",
      "                               6.0     165.0  174.285714  24.736709   1220.0\n",
      "                               7.0     260.0  260.000000   0.000000    780.0\n",
      "\n",
      "[1311 rows x 4 columns]\n"
     ]
    }
   ],
   "source": [
    "print(glr['surface_total'].agg([np.median, np.mean, np.std, np.sum]))"
   ]
  },
  {
   "cell_type": "markdown",
   "metadata": {},
   "source": [
    "Analizamos los valores estadísticos de este agrupamiento en función de la variable *surface_total*"
   ]
  },
  {
   "cell_type": "code",
   "execution_count": 36,
   "metadata": {},
   "outputs": [
    {
     "name": "stdout",
     "output_type": "stream",
     "text": [
      "                                      median        mean        std     sum\n",
      "property_type l3               rooms                                       \n",
      "Casa          Abasto           4.0     118.0  118.000000        NaN   118.0\n",
      "              Agronomía        3.0     126.0  126.000000   1.414214   252.0\n",
      "                               4.0     142.0  154.666667  21.939310   464.0\n",
      "                               6.0       NaN         NaN        NaN     0.0\n",
      "              Almagro          2.0      65.0   65.000000        NaN    65.0\n",
      "...                                      ...         ...        ...     ...\n",
      "PH            Villa del Parque 3.0      70.0   76.050000  30.206252  9126.0\n",
      "                               4.0      98.0  100.152941  28.494989  8513.0\n",
      "                               5.0     100.0  108.428571  24.409210  3036.0\n",
      "                               6.0     165.0  161.428571   5.563486  1130.0\n",
      "                               7.0     170.0  170.000000   0.000000   510.0\n",
      "\n",
      "[1311 rows x 4 columns]\n"
     ]
    }
   ],
   "source": [
    "print(glr['surface_covered'].agg([np.median, np.mean, np.std, np.sum]))"
   ]
  },
  {
   "cell_type": "markdown",
   "metadata": {},
   "source": [
    "En función de dicha información, se toma la decisión que la variable más apropiada con la que imputar los datos faltantes en cada caso es la median por tipo de propiedad, l3 y cantidad de habitaciones. Ésto quizás nos de valores muy aproximados a los reales."
   ]
  },
  {
   "cell_type": "code",
   "execution_count": 37,
   "metadata": {},
   "outputs": [
    {
     "name": "stderr",
     "output_type": "stream",
     "text": [
      "<ipython-input-37-0ab2d3ea556c>:1: SettingWithCopyWarning: \n",
      "A value is trying to be set on a copy of a slice from a DataFrame.\n",
      "Try using .loc[row_indexer,col_indexer] = value instead\n",
      "\n",
      "See the caveats in the documentation: https://pandas.pydata.org/pandas-docs/stable/user_guide/indexing.html#returning-a-view-versus-a-copy\n",
      "  data_2['bathrooms'] = data_2['bathrooms'].fillna(data_2.groupby(['property_type','l2'])['bathrooms'].transform('median'))\n"
     ]
    }
   ],
   "source": [
    "data_2['bathrooms'] = data_2['bathrooms'].fillna(data_2.groupby(['property_type','l2'])['bathrooms'].transform('median'))"
   ]
  },
  {
   "cell_type": "code",
   "execution_count": 38,
   "metadata": {},
   "outputs": [
    {
     "name": "stderr",
     "output_type": "stream",
     "text": [
      "<ipython-input-38-cee3c34b12b9>:1: SettingWithCopyWarning: \n",
      "A value is trying to be set on a copy of a slice from a DataFrame.\n",
      "Try using .loc[row_indexer,col_indexer] = value instead\n",
      "\n",
      "See the caveats in the documentation: https://pandas.pydata.org/pandas-docs/stable/user_guide/indexing.html#returning-a-view-versus-a-copy\n",
      "  data_2['surface_total'] = data_2['surface_total'].fillna(data_2.groupby(['property_type','l2'])['surface_total'].transform('median'))\n"
     ]
    }
   ],
   "source": [
    "data_2['surface_total'] = data_2['surface_total'].fillna(data_2.groupby(['property_type','l2'])['surface_total'].transform('median'))"
   ]
  },
  {
   "cell_type": "code",
   "execution_count": 39,
   "metadata": {},
   "outputs": [
    {
     "name": "stderr",
     "output_type": "stream",
     "text": [
      "<ipython-input-39-2be2331a318f>:1: SettingWithCopyWarning: \n",
      "A value is trying to be set on a copy of a slice from a DataFrame.\n",
      "Try using .loc[row_indexer,col_indexer] = value instead\n",
      "\n",
      "See the caveats in the documentation: https://pandas.pydata.org/pandas-docs/stable/user_guide/indexing.html#returning-a-view-versus-a-copy\n",
      "  data_2['surface_covered'] = data_2['surface_covered'].fillna(data_2.groupby(['property_type','l2'])['surface_covered'].transform('median'))\n"
     ]
    }
   ],
   "source": [
    "data_2['surface_covered'] = data_2['surface_covered'].fillna(data_2.groupby(['property_type','l2'])['surface_covered'].transform('median'))"
   ]
  },
  {
   "cell_type": "markdown",
   "metadata": {},
   "source": [
    "Ahora sí nos queda un dataset sin valores nulos"
   ]
  },
  {
   "cell_type": "code",
   "execution_count": 40,
   "metadata": {},
   "outputs": [
    {
     "data": {
      "text/plain": [
       "l2                 0\n",
       "l3                 0\n",
       "rooms              0\n",
       "bedrooms           0\n",
       "bathrooms          0\n",
       "surface_total      0\n",
       "surface_covered    0\n",
       "price              0\n",
       "property_type      0\n",
       "dtype: int64"
      ]
     },
     "execution_count": 40,
     "metadata": {},
     "output_type": "execute_result"
    }
   ],
   "source": [
    "data_2.isnull().sum()"
   ]
  },
  {
   "cell_type": "markdown",
   "metadata": {},
   "source": [
    "# A3. Escalada de datos"
   ]
  },
  {
   "cell_type": "markdown",
   "metadata": {},
   "source": [
    "Estandarizamos los datos según las desviaciones ya que por la naturaleza de cada atributo, los valores son muy diferentes y no expresan los mismo. Escalo los valores de las columnas rooms, bedrooms, bathrooms, surface_total y surface_covered."
   ]
  },
  {
   "cell_type": "code",
   "execution_count": 41,
   "metadata": {},
   "outputs": [
    {
     "name": "stderr",
     "output_type": "stream",
     "text": [
      "/Users/eugeniasandrone/opt/miniconda3/envs/datascience/lib/python3.8/site-packages/pandas/core/indexing.py:966: SettingWithCopyWarning: \n",
      "A value is trying to be set on a copy of a slice from a DataFrame.\n",
      "Try using .loc[row_indexer,col_indexer] = value instead\n",
      "\n",
      "See the caveats in the documentation: https://pandas.pydata.org/pandas-docs/stable/user_guide/indexing.html#returning-a-view-versus-a-copy\n",
      "  self.obj[item] = s\n"
     ]
    }
   ],
   "source": [
    "from sklearn.preprocessing import StandardScaler\n",
    "X_esc = data_2.iloc[:, 2:7]\n",
    "scl = StandardScaler()\n",
    "X_esc = scl.fit_transform(X_esc)\n",
    "for i in range(2,7):\n",
    "    data_2.iloc[:, i] = X_esc[:, i-2]"
   ]
  },
  {
   "cell_type": "code",
   "execution_count": 42,
   "metadata": {},
   "outputs": [
    {
     "data": {
      "text/html": [
       "<div>\n",
       "<style scoped>\n",
       "    .dataframe tbody tr th:only-of-type {\n",
       "        vertical-align: middle;\n",
       "    }\n",
       "\n",
       "    .dataframe tbody tr th {\n",
       "        vertical-align: top;\n",
       "    }\n",
       "\n",
       "    .dataframe thead th {\n",
       "        text-align: right;\n",
       "    }\n",
       "</style>\n",
       "<table border=\"1\" class=\"dataframe\">\n",
       "  <thead>\n",
       "    <tr style=\"text-align: right;\">\n",
       "      <th></th>\n",
       "      <th>l2</th>\n",
       "      <th>l3</th>\n",
       "      <th>rooms</th>\n",
       "      <th>bedrooms</th>\n",
       "      <th>bathrooms</th>\n",
       "      <th>surface_total</th>\n",
       "      <th>surface_covered</th>\n",
       "      <th>price</th>\n",
       "      <th>property_type</th>\n",
       "    </tr>\n",
       "  </thead>\n",
       "  <tbody>\n",
       "    <tr>\n",
       "      <th>1</th>\n",
       "      <td>Capital Federal</td>\n",
       "      <td>Boedo</td>\n",
       "      <td>-0.737468</td>\n",
       "      <td>-0.823135</td>\n",
       "      <td>1.059098</td>\n",
       "      <td>-0.267421</td>\n",
       "      <td>-0.316081</td>\n",
       "      <td>159000.0</td>\n",
       "      <td>PH</td>\n",
       "    </tr>\n",
       "    <tr>\n",
       "      <th>2</th>\n",
       "      <td>Capital Federal</td>\n",
       "      <td>Palermo</td>\n",
       "      <td>-0.737468</td>\n",
       "      <td>-0.823135</td>\n",
       "      <td>-0.644321</td>\n",
       "      <td>-0.804929</td>\n",
       "      <td>-0.731764</td>\n",
       "      <td>125000.0</td>\n",
       "      <td>PH</td>\n",
       "    </tr>\n",
       "    <tr>\n",
       "      <th>3</th>\n",
       "      <td>Capital Federal</td>\n",
       "      <td>Palermo</td>\n",
       "      <td>-0.737468</td>\n",
       "      <td>-0.823135</td>\n",
       "      <td>-0.644321</td>\n",
       "      <td>0.055084</td>\n",
       "      <td>-0.571886</td>\n",
       "      <td>295000.0</td>\n",
       "      <td>PH</td>\n",
       "    </tr>\n",
       "    <tr>\n",
       "      <th>4</th>\n",
       "      <td>Bs.As. G.B.A. Zona Sur</td>\n",
       "      <td>La Plata</td>\n",
       "      <td>-0.737468</td>\n",
       "      <td>-0.823135</td>\n",
       "      <td>-0.644321</td>\n",
       "      <td>-0.697427</td>\n",
       "      <td>-1.051520</td>\n",
       "      <td>40000.0</td>\n",
       "      <td>PH</td>\n",
       "    </tr>\n",
       "    <tr>\n",
       "      <th>5</th>\n",
       "      <td>Capital Federal</td>\n",
       "      <td>Villa Crespo</td>\n",
       "      <td>-0.737468</td>\n",
       "      <td>-0.823135</td>\n",
       "      <td>-0.644321</td>\n",
       "      <td>-0.568425</td>\n",
       "      <td>-0.380033</td>\n",
       "      <td>150000.0</td>\n",
       "      <td>PH</td>\n",
       "    </tr>\n",
       "    <tr>\n",
       "      <th>...</th>\n",
       "      <td>...</td>\n",
       "      <td>...</td>\n",
       "      <td>...</td>\n",
       "      <td>...</td>\n",
       "      <td>...</td>\n",
       "      <td>...</td>\n",
       "      <td>...</td>\n",
       "      <td>...</td>\n",
       "      <td>...</td>\n",
       "    </tr>\n",
       "    <tr>\n",
       "      <th>146655</th>\n",
       "      <td>Bs.As. G.B.A. Zona Sur</td>\n",
       "      <td>Berazategui</td>\n",
       "      <td>-0.737468</td>\n",
       "      <td>-0.823135</td>\n",
       "      <td>-0.644321</td>\n",
       "      <td>-0.611426</td>\n",
       "      <td>-0.635838</td>\n",
       "      <td>165000.0</td>\n",
       "      <td>Departamento</td>\n",
       "    </tr>\n",
       "    <tr>\n",
       "      <th>146656</th>\n",
       "      <td>Bs.As. G.B.A. Zona Norte</td>\n",
       "      <td>Pilar</td>\n",
       "      <td>1.156590</td>\n",
       "      <td>1.338838</td>\n",
       "      <td>1.059098</td>\n",
       "      <td>1.753608</td>\n",
       "      <td>0.707138</td>\n",
       "      <td>130000.0</td>\n",
       "      <td>Departamento</td>\n",
       "    </tr>\n",
       "    <tr>\n",
       "      <th>146657</th>\n",
       "      <td>Bs.As. G.B.A. Zona Norte</td>\n",
       "      <td>Pilar</td>\n",
       "      <td>-1.684497</td>\n",
       "      <td>-0.823135</td>\n",
       "      <td>-0.644321</td>\n",
       "      <td>-0.697427</td>\n",
       "      <td>-1.051520</td>\n",
       "      <td>73000.0</td>\n",
       "      <td>Departamento</td>\n",
       "    </tr>\n",
       "    <tr>\n",
       "      <th>146658</th>\n",
       "      <td>Bs.As. G.B.A. Zona Norte</td>\n",
       "      <td>Pilar</td>\n",
       "      <td>-0.737468</td>\n",
       "      <td>-0.823135</td>\n",
       "      <td>-0.644321</td>\n",
       "      <td>-0.955431</td>\n",
       "      <td>-0.955594</td>\n",
       "      <td>68000.0</td>\n",
       "      <td>Departamento</td>\n",
       "    </tr>\n",
       "    <tr>\n",
       "      <th>146659</th>\n",
       "      <td>Bs.As. G.B.A. Zona Norte</td>\n",
       "      <td>Pilar</td>\n",
       "      <td>0.209561</td>\n",
       "      <td>0.257852</td>\n",
       "      <td>-0.644321</td>\n",
       "      <td>-0.159919</td>\n",
       "      <td>0.227504</td>\n",
       "      <td>98000.0</td>\n",
       "      <td>Departamento</td>\n",
       "    </tr>\n",
       "  </tbody>\n",
       "</table>\n",
       "<p>117673 rows × 9 columns</p>\n",
       "</div>"
      ],
      "text/plain": [
       "                              l2            l3     rooms  bedrooms  bathrooms  \\\n",
       "1                Capital Federal         Boedo -0.737468 -0.823135   1.059098   \n",
       "2                Capital Federal       Palermo -0.737468 -0.823135  -0.644321   \n",
       "3                Capital Federal       Palermo -0.737468 -0.823135  -0.644321   \n",
       "4         Bs.As. G.B.A. Zona Sur      La Plata -0.737468 -0.823135  -0.644321   \n",
       "5                Capital Federal  Villa Crespo -0.737468 -0.823135  -0.644321   \n",
       "...                          ...           ...       ...       ...        ...   \n",
       "146655    Bs.As. G.B.A. Zona Sur   Berazategui -0.737468 -0.823135  -0.644321   \n",
       "146656  Bs.As. G.B.A. Zona Norte         Pilar  1.156590  1.338838   1.059098   \n",
       "146657  Bs.As. G.B.A. Zona Norte         Pilar -1.684497 -0.823135  -0.644321   \n",
       "146658  Bs.As. G.B.A. Zona Norte         Pilar -0.737468 -0.823135  -0.644321   \n",
       "146659  Bs.As. G.B.A. Zona Norte         Pilar  0.209561  0.257852  -0.644321   \n",
       "\n",
       "        surface_total  surface_covered     price property_type  \n",
       "1           -0.267421        -0.316081  159000.0            PH  \n",
       "2           -0.804929        -0.731764  125000.0            PH  \n",
       "3            0.055084        -0.571886  295000.0            PH  \n",
       "4           -0.697427        -1.051520   40000.0            PH  \n",
       "5           -0.568425        -0.380033  150000.0            PH  \n",
       "...               ...              ...       ...           ...  \n",
       "146655      -0.611426        -0.635838  165000.0  Departamento  \n",
       "146656       1.753608         0.707138  130000.0  Departamento  \n",
       "146657      -0.697427        -1.051520   73000.0  Departamento  \n",
       "146658      -0.955431        -0.955594   68000.0  Departamento  \n",
       "146659      -0.159919         0.227504   98000.0  Departamento  \n",
       "\n",
       "[117673 rows x 9 columns]"
      ]
     },
     "execution_count": 42,
     "metadata": {},
     "output_type": "execute_result"
    }
   ],
   "source": [
    "data_2"
   ]
  },
  {
   "cell_type": "markdown",
   "metadata": {},
   "source": [
    "# A4. Transformación de variables categóricas"
   ]
  },
  {
   "cell_type": "markdown",
   "metadata": {},
   "source": [
    "Transformo las variables categóricas de l2, l3 y property_type para utilizarlas en el análisis"
   ]
  },
  {
   "cell_type": "code",
   "execution_count": 43,
   "metadata": {},
   "outputs": [],
   "source": [
    "dummy_pt = pd.get_dummies(data_2[\"property_type\"], prefix=\"property_type\")\n",
    "dummy_l3 = pd.get_dummies(data_2[\"l3\"], prefix=\"l3\")\n",
    "dummy_l2 = pd.get_dummies(data_2[\"l2\"], prefix=\"l2\")"
   ]
  },
  {
   "cell_type": "code",
   "execution_count": 44,
   "metadata": {},
   "outputs": [],
   "source": [
    "data_2 = pd.concat([data_2, dummy_pt], axis = 1)\n",
    "data_2 = pd.concat([data_2, dummy_l3], axis = 1)\n",
    "data_2 = pd.concat([data_2, dummy_l2], axis = 1)"
   ]
  },
  {
   "cell_type": "markdown",
   "metadata": {},
   "source": [
    "Elimino las columas que aún contienen las variables categóricas l2, l3 y property_type.\n",
    "Finalmente el dataset queda con 117673 filas y 102 columnas"
   ]
  },
  {
   "cell_type": "code",
   "execution_count": 45,
   "metadata": {},
   "outputs": [],
   "source": [
    "data_3 = data_2.drop(data_2.columns[[0,1,8]], axis = 1)"
   ]
  },
  {
   "cell_type": "code",
   "execution_count": 46,
   "metadata": {},
   "outputs": [
    {
     "data": {
      "text/html": [
       "<div>\n",
       "<style scoped>\n",
       "    .dataframe tbody tr th:only-of-type {\n",
       "        vertical-align: middle;\n",
       "    }\n",
       "\n",
       "    .dataframe tbody tr th {\n",
       "        vertical-align: top;\n",
       "    }\n",
       "\n",
       "    .dataframe thead th {\n",
       "        text-align: right;\n",
       "    }\n",
       "</style>\n",
       "<table border=\"1\" class=\"dataframe\">\n",
       "  <thead>\n",
       "    <tr style=\"text-align: right;\">\n",
       "      <th></th>\n",
       "      <th>rooms</th>\n",
       "      <th>bedrooms</th>\n",
       "      <th>bathrooms</th>\n",
       "      <th>surface_total</th>\n",
       "      <th>surface_covered</th>\n",
       "      <th>price</th>\n",
       "      <th>property_type_Casa</th>\n",
       "      <th>property_type_Departamento</th>\n",
       "      <th>property_type_PH</th>\n",
       "      <th>l3_Abasto</th>\n",
       "      <th>...</th>\n",
       "      <th>l3_Villa Real</th>\n",
       "      <th>l3_Villa Riachuelo</th>\n",
       "      <th>l3_Villa Santa Rita</th>\n",
       "      <th>l3_Villa Soldati</th>\n",
       "      <th>l3_Villa Urquiza</th>\n",
       "      <th>l3_Villa del Parque</th>\n",
       "      <th>l2_Bs.As. G.B.A. Zona Norte</th>\n",
       "      <th>l2_Bs.As. G.B.A. Zona Oeste</th>\n",
       "      <th>l2_Bs.As. G.B.A. Zona Sur</th>\n",
       "      <th>l2_Capital Federal</th>\n",
       "    </tr>\n",
       "  </thead>\n",
       "  <tbody>\n",
       "    <tr>\n",
       "      <th>1</th>\n",
       "      <td>-0.737468</td>\n",
       "      <td>-0.823135</td>\n",
       "      <td>1.059098</td>\n",
       "      <td>-0.267421</td>\n",
       "      <td>-0.316081</td>\n",
       "      <td>159000.0</td>\n",
       "      <td>0</td>\n",
       "      <td>0</td>\n",
       "      <td>1</td>\n",
       "      <td>0</td>\n",
       "      <td>...</td>\n",
       "      <td>0</td>\n",
       "      <td>0</td>\n",
       "      <td>0</td>\n",
       "      <td>0</td>\n",
       "      <td>0</td>\n",
       "      <td>0</td>\n",
       "      <td>0</td>\n",
       "      <td>0</td>\n",
       "      <td>0</td>\n",
       "      <td>1</td>\n",
       "    </tr>\n",
       "    <tr>\n",
       "      <th>2</th>\n",
       "      <td>-0.737468</td>\n",
       "      <td>-0.823135</td>\n",
       "      <td>-0.644321</td>\n",
       "      <td>-0.804929</td>\n",
       "      <td>-0.731764</td>\n",
       "      <td>125000.0</td>\n",
       "      <td>0</td>\n",
       "      <td>0</td>\n",
       "      <td>1</td>\n",
       "      <td>0</td>\n",
       "      <td>...</td>\n",
       "      <td>0</td>\n",
       "      <td>0</td>\n",
       "      <td>0</td>\n",
       "      <td>0</td>\n",
       "      <td>0</td>\n",
       "      <td>0</td>\n",
       "      <td>0</td>\n",
       "      <td>0</td>\n",
       "      <td>0</td>\n",
       "      <td>1</td>\n",
       "    </tr>\n",
       "    <tr>\n",
       "      <th>3</th>\n",
       "      <td>-0.737468</td>\n",
       "      <td>-0.823135</td>\n",
       "      <td>-0.644321</td>\n",
       "      <td>0.055084</td>\n",
       "      <td>-0.571886</td>\n",
       "      <td>295000.0</td>\n",
       "      <td>0</td>\n",
       "      <td>0</td>\n",
       "      <td>1</td>\n",
       "      <td>0</td>\n",
       "      <td>...</td>\n",
       "      <td>0</td>\n",
       "      <td>0</td>\n",
       "      <td>0</td>\n",
       "      <td>0</td>\n",
       "      <td>0</td>\n",
       "      <td>0</td>\n",
       "      <td>0</td>\n",
       "      <td>0</td>\n",
       "      <td>0</td>\n",
       "      <td>1</td>\n",
       "    </tr>\n",
       "    <tr>\n",
       "      <th>4</th>\n",
       "      <td>-0.737468</td>\n",
       "      <td>-0.823135</td>\n",
       "      <td>-0.644321</td>\n",
       "      <td>-0.697427</td>\n",
       "      <td>-1.051520</td>\n",
       "      <td>40000.0</td>\n",
       "      <td>0</td>\n",
       "      <td>0</td>\n",
       "      <td>1</td>\n",
       "      <td>0</td>\n",
       "      <td>...</td>\n",
       "      <td>0</td>\n",
       "      <td>0</td>\n",
       "      <td>0</td>\n",
       "      <td>0</td>\n",
       "      <td>0</td>\n",
       "      <td>0</td>\n",
       "      <td>0</td>\n",
       "      <td>0</td>\n",
       "      <td>1</td>\n",
       "      <td>0</td>\n",
       "    </tr>\n",
       "    <tr>\n",
       "      <th>5</th>\n",
       "      <td>-0.737468</td>\n",
       "      <td>-0.823135</td>\n",
       "      <td>-0.644321</td>\n",
       "      <td>-0.568425</td>\n",
       "      <td>-0.380033</td>\n",
       "      <td>150000.0</td>\n",
       "      <td>0</td>\n",
       "      <td>0</td>\n",
       "      <td>1</td>\n",
       "      <td>0</td>\n",
       "      <td>...</td>\n",
       "      <td>0</td>\n",
       "      <td>0</td>\n",
       "      <td>0</td>\n",
       "      <td>0</td>\n",
       "      <td>0</td>\n",
       "      <td>0</td>\n",
       "      <td>0</td>\n",
       "      <td>0</td>\n",
       "      <td>0</td>\n",
       "      <td>1</td>\n",
       "    </tr>\n",
       "    <tr>\n",
       "      <th>...</th>\n",
       "      <td>...</td>\n",
       "      <td>...</td>\n",
       "      <td>...</td>\n",
       "      <td>...</td>\n",
       "      <td>...</td>\n",
       "      <td>...</td>\n",
       "      <td>...</td>\n",
       "      <td>...</td>\n",
       "      <td>...</td>\n",
       "      <td>...</td>\n",
       "      <td>...</td>\n",
       "      <td>...</td>\n",
       "      <td>...</td>\n",
       "      <td>...</td>\n",
       "      <td>...</td>\n",
       "      <td>...</td>\n",
       "      <td>...</td>\n",
       "      <td>...</td>\n",
       "      <td>...</td>\n",
       "      <td>...</td>\n",
       "      <td>...</td>\n",
       "    </tr>\n",
       "    <tr>\n",
       "      <th>146655</th>\n",
       "      <td>-0.737468</td>\n",
       "      <td>-0.823135</td>\n",
       "      <td>-0.644321</td>\n",
       "      <td>-0.611426</td>\n",
       "      <td>-0.635838</td>\n",
       "      <td>165000.0</td>\n",
       "      <td>0</td>\n",
       "      <td>1</td>\n",
       "      <td>0</td>\n",
       "      <td>0</td>\n",
       "      <td>...</td>\n",
       "      <td>0</td>\n",
       "      <td>0</td>\n",
       "      <td>0</td>\n",
       "      <td>0</td>\n",
       "      <td>0</td>\n",
       "      <td>0</td>\n",
       "      <td>0</td>\n",
       "      <td>0</td>\n",
       "      <td>1</td>\n",
       "      <td>0</td>\n",
       "    </tr>\n",
       "    <tr>\n",
       "      <th>146656</th>\n",
       "      <td>1.156590</td>\n",
       "      <td>1.338838</td>\n",
       "      <td>1.059098</td>\n",
       "      <td>1.753608</td>\n",
       "      <td>0.707138</td>\n",
       "      <td>130000.0</td>\n",
       "      <td>0</td>\n",
       "      <td>1</td>\n",
       "      <td>0</td>\n",
       "      <td>0</td>\n",
       "      <td>...</td>\n",
       "      <td>0</td>\n",
       "      <td>0</td>\n",
       "      <td>0</td>\n",
       "      <td>0</td>\n",
       "      <td>0</td>\n",
       "      <td>0</td>\n",
       "      <td>1</td>\n",
       "      <td>0</td>\n",
       "      <td>0</td>\n",
       "      <td>0</td>\n",
       "    </tr>\n",
       "    <tr>\n",
       "      <th>146657</th>\n",
       "      <td>-1.684497</td>\n",
       "      <td>-0.823135</td>\n",
       "      <td>-0.644321</td>\n",
       "      <td>-0.697427</td>\n",
       "      <td>-1.051520</td>\n",
       "      <td>73000.0</td>\n",
       "      <td>0</td>\n",
       "      <td>1</td>\n",
       "      <td>0</td>\n",
       "      <td>0</td>\n",
       "      <td>...</td>\n",
       "      <td>0</td>\n",
       "      <td>0</td>\n",
       "      <td>0</td>\n",
       "      <td>0</td>\n",
       "      <td>0</td>\n",
       "      <td>0</td>\n",
       "      <td>1</td>\n",
       "      <td>0</td>\n",
       "      <td>0</td>\n",
       "      <td>0</td>\n",
       "    </tr>\n",
       "    <tr>\n",
       "      <th>146658</th>\n",
       "      <td>-0.737468</td>\n",
       "      <td>-0.823135</td>\n",
       "      <td>-0.644321</td>\n",
       "      <td>-0.955431</td>\n",
       "      <td>-0.955594</td>\n",
       "      <td>68000.0</td>\n",
       "      <td>0</td>\n",
       "      <td>1</td>\n",
       "      <td>0</td>\n",
       "      <td>0</td>\n",
       "      <td>...</td>\n",
       "      <td>0</td>\n",
       "      <td>0</td>\n",
       "      <td>0</td>\n",
       "      <td>0</td>\n",
       "      <td>0</td>\n",
       "      <td>0</td>\n",
       "      <td>1</td>\n",
       "      <td>0</td>\n",
       "      <td>0</td>\n",
       "      <td>0</td>\n",
       "    </tr>\n",
       "    <tr>\n",
       "      <th>146659</th>\n",
       "      <td>0.209561</td>\n",
       "      <td>0.257852</td>\n",
       "      <td>-0.644321</td>\n",
       "      <td>-0.159919</td>\n",
       "      <td>0.227504</td>\n",
       "      <td>98000.0</td>\n",
       "      <td>0</td>\n",
       "      <td>1</td>\n",
       "      <td>0</td>\n",
       "      <td>0</td>\n",
       "      <td>...</td>\n",
       "      <td>0</td>\n",
       "      <td>0</td>\n",
       "      <td>0</td>\n",
       "      <td>0</td>\n",
       "      <td>0</td>\n",
       "      <td>0</td>\n",
       "      <td>1</td>\n",
       "      <td>0</td>\n",
       "      <td>0</td>\n",
       "      <td>0</td>\n",
       "    </tr>\n",
       "  </tbody>\n",
       "</table>\n",
       "<p>117673 rows × 102 columns</p>\n",
       "</div>"
      ],
      "text/plain": [
       "           rooms  bedrooms  bathrooms  surface_total  surface_covered  \\\n",
       "1      -0.737468 -0.823135   1.059098      -0.267421        -0.316081   \n",
       "2      -0.737468 -0.823135  -0.644321      -0.804929        -0.731764   \n",
       "3      -0.737468 -0.823135  -0.644321       0.055084        -0.571886   \n",
       "4      -0.737468 -0.823135  -0.644321      -0.697427        -1.051520   \n",
       "5      -0.737468 -0.823135  -0.644321      -0.568425        -0.380033   \n",
       "...          ...       ...        ...            ...              ...   \n",
       "146655 -0.737468 -0.823135  -0.644321      -0.611426        -0.635838   \n",
       "146656  1.156590  1.338838   1.059098       1.753608         0.707138   \n",
       "146657 -1.684497 -0.823135  -0.644321      -0.697427        -1.051520   \n",
       "146658 -0.737468 -0.823135  -0.644321      -0.955431        -0.955594   \n",
       "146659  0.209561  0.257852  -0.644321      -0.159919         0.227504   \n",
       "\n",
       "           price  property_type_Casa  property_type_Departamento  \\\n",
       "1       159000.0                   0                           0   \n",
       "2       125000.0                   0                           0   \n",
       "3       295000.0                   0                           0   \n",
       "4        40000.0                   0                           0   \n",
       "5       150000.0                   0                           0   \n",
       "...          ...                 ...                         ...   \n",
       "146655  165000.0                   0                           1   \n",
       "146656  130000.0                   0                           1   \n",
       "146657   73000.0                   0                           1   \n",
       "146658   68000.0                   0                           1   \n",
       "146659   98000.0                   0                           1   \n",
       "\n",
       "        property_type_PH  l3_Abasto  ...  l3_Villa Real  l3_Villa Riachuelo  \\\n",
       "1                      1          0  ...              0                   0   \n",
       "2                      1          0  ...              0                   0   \n",
       "3                      1          0  ...              0                   0   \n",
       "4                      1          0  ...              0                   0   \n",
       "5                      1          0  ...              0                   0   \n",
       "...                  ...        ...  ...            ...                 ...   \n",
       "146655                 0          0  ...              0                   0   \n",
       "146656                 0          0  ...              0                   0   \n",
       "146657                 0          0  ...              0                   0   \n",
       "146658                 0          0  ...              0                   0   \n",
       "146659                 0          0  ...              0                   0   \n",
       "\n",
       "        l3_Villa Santa Rita  l3_Villa Soldati  l3_Villa Urquiza  \\\n",
       "1                         0                 0                 0   \n",
       "2                         0                 0                 0   \n",
       "3                         0                 0                 0   \n",
       "4                         0                 0                 0   \n",
       "5                         0                 0                 0   \n",
       "...                     ...               ...               ...   \n",
       "146655                    0                 0                 0   \n",
       "146656                    0                 0                 0   \n",
       "146657                    0                 0                 0   \n",
       "146658                    0                 0                 0   \n",
       "146659                    0                 0                 0   \n",
       "\n",
       "        l3_Villa del Parque  l2_Bs.As. G.B.A. Zona Norte  \\\n",
       "1                         0                            0   \n",
       "2                         0                            0   \n",
       "3                         0                            0   \n",
       "4                         0                            0   \n",
       "5                         0                            0   \n",
       "...                     ...                          ...   \n",
       "146655                    0                            0   \n",
       "146656                    0                            1   \n",
       "146657                    0                            1   \n",
       "146658                    0                            1   \n",
       "146659                    0                            1   \n",
       "\n",
       "        l2_Bs.As. G.B.A. Zona Oeste  l2_Bs.As. G.B.A. Zona Sur  \\\n",
       "1                                 0                          0   \n",
       "2                                 0                          0   \n",
       "3                                 0                          0   \n",
       "4                                 0                          1   \n",
       "5                                 0                          0   \n",
       "...                             ...                        ...   \n",
       "146655                            0                          1   \n",
       "146656                            0                          0   \n",
       "146657                            0                          0   \n",
       "146658                            0                          0   \n",
       "146659                            0                          0   \n",
       "\n",
       "        l2_Capital Federal  \n",
       "1                        1  \n",
       "2                        1  \n",
       "3                        1  \n",
       "4                        0  \n",
       "5                        1  \n",
       "...                    ...  \n",
       "146655                   0  \n",
       "146656                   0  \n",
       "146657                   0  \n",
       "146658                   0  \n",
       "146659                   0  \n",
       "\n",
       "[117673 rows x 102 columns]"
      ]
     },
     "execution_count": 46,
     "metadata": {},
     "output_type": "execute_result"
    }
   ],
   "source": [
    "data_3"
   ]
  },
  {
   "cell_type": "markdown",
   "metadata": {},
   "source": [
    "# A5. Reducción de dimensionalidad"
   ]
  },
  {
   "cell_type": "markdown",
   "metadata": {},
   "source": [
    "Debido al tamaño que adquirió el dataset, se realizará una reducción de la dimensionalidad con PCA. \n",
    "Se trabajará sobre todo el dataset excluyendo la columna precio, ya que será nuestra \"y\" en los modelos de Machine Learning."
   ]
  },
  {
   "cell_type": "code",
   "execution_count": 49,
   "metadata": {},
   "outputs": [],
   "source": [
    "from sklearn.decomposition import PCA"
   ]
  },
  {
   "cell_type": "code",
   "execution_count": 50,
   "metadata": {},
   "outputs": [],
   "source": [
    "data_4 = data_3.drop(data_3.columns[[5]], axis = 1)"
   ]
  },
  {
   "cell_type": "markdown",
   "metadata": {},
   "source": [
    "Comienzo con 2 componentes para obtener las fórmulas y luego analizo la Varianza Explicada Acumulada."
   ]
  },
  {
   "cell_type": "code",
   "execution_count": 51,
   "metadata": {},
   "outputs": [
    {
     "name": "stdout",
     "output_type": "stream",
     "text": [
      "[0.53628207 0.09494725]\n",
      "[655.41908583 275.78054785]\n"
     ]
    }
   ],
   "source": [
    "from sklearn.decomposition import PCA\n",
    "X = data_4\n",
    "pca = PCA(n_components=2)\n",
    "X_nuevo = pca.fit_transform(X) \n",
    "print(pca.explained_variance_ratio_)\n",
    "print(pca.singular_values_)"
   ]
  },
  {
   "cell_type": "markdown",
   "metadata": {},
   "source": [
    "Grafico el resultado de la Varianza Explicada Acumulada por cada número de componentes para evaluar cuál podría ser el mejor número que me reduzca el dataset y a la vez mantener información valiosa."
   ]
  },
  {
   "cell_type": "code",
   "execution_count": 52,
   "metadata": {},
   "outputs": [
    {
     "data": {
      "text/plain": [
       "Text(0, 0.5, 'Varianza Explicada Acumulada')"
      ]
     },
     "execution_count": 52,
     "metadata": {},
     "output_type": "execute_result"
    },
    {
     "data": {
      "image/png": "[encoded data removed]",
      "text/plain": [
       "<Figure size 360x360 with 1 Axes>"
      ]
     },
     "metadata": {
      "needs_background": "light"
     },
     "output_type": "display_data"
    }
   ],
   "source": [
    "plt.figure(figsize=(5,5))\n",
    "plt.xscale(\"linear\")\n",
    "pca=PCA().fit(data_4)\n",
    "plt.plot(np.cumsum(pca.explained_variance_ratio_))\n",
    "plt.xlabel(\"N de componentes\")\n",
    "plt.ylabel(\"Varianza Explicada Acumulada\")"
   ]
  },
  {
   "cell_type": "markdown",
   "metadata": {},
   "source": [
    "Se decide, en función de observar el gráfico anterior y algunos intentos probando diferente cantidad de componentes, que 67 puede ser un número de componente que nos mantenga la calidad del dataset y que a la vez reduzca considerablemente el tamaño del mismo, para que luego podamos procesarlo en la computadora. Quizás un mayor número de componentes, como 80, arrojen luego mejores resultados, per según el testeo que realicé, la mejora es bastante pequeña en comparación al costo en tiempo de procesamiento de los modelos o colapso del sistema."
   ]
  },
  {
   "cell_type": "code",
   "execution_count": 53,
   "metadata": {},
   "outputs": [
    {
     "name": "stdout",
     "output_type": "stream",
     "text": [
      "[0.53628207 0.09494725 0.09128397 0.04378025 0.02718814 0.02294216\n",
      " 0.01753331 0.01528828 0.01273336 0.01209705 0.00835449 0.00818073\n",
      " 0.00728715 0.00678885 0.00584572 0.00562817 0.00465988 0.00372293\n",
      " 0.00365015 0.0034305  0.00340414 0.00305334 0.003019   0.00265772\n",
      " 0.00253607 0.00240914 0.00237258 0.00202757 0.00193944 0.00180715\n",
      " 0.00174596 0.00170331 0.00156039 0.00155542 0.00155075 0.00150385\n",
      " 0.00140588 0.00128843 0.00120411 0.00118862 0.00115043 0.00114105\n",
      " 0.00108815 0.00107797 0.00105944 0.0009992  0.00097354 0.00093928\n",
      " 0.00091746 0.00089476 0.00088043 0.00085596 0.00083317 0.0008217\n",
      " 0.00080965 0.00074955 0.00072528 0.00069042 0.00068707 0.000664\n",
      " 0.00065004 0.0006131  0.00059759 0.0005908  0.00056573 0.00055129\n",
      " 0.00053852]\n",
      "[655.41908583 275.78054785 270.40810308 187.26713078 147.57480493\n",
      " 135.5625214  118.50982486 110.66281386 100.99363843  98.43787459\n",
      "  81.80546812  80.95027928  76.40139147  73.74296714  68.42919191\n",
      "  67.14382566  61.09560139  54.60908524  54.07263785  52.4205203\n",
      "  52.21869121  49.45501593  49.17607847  46.13993632  45.07158676\n",
      "  43.92922945  43.59460843  40.30045512  39.41492049  38.04689789\n",
      "  37.39725756  36.93770114  35.35399213  35.29766865  35.24465954\n",
      "  34.70760408  33.55799473  32.12566329  31.05671316  30.85628458\n",
      "  30.35662278  30.2325793   29.52346495  29.3850041   29.13138024\n",
      "  28.29095356  27.92537484  27.42957712  27.10922938  26.77168157\n",
      "  26.55643913  26.18481742  25.83386863  25.65535169  25.46662759\n",
      "  24.5031154   24.10317283  23.51684862  23.4596883   23.06245043\n",
      "  22.81883078  22.16093806  21.87887386  21.75426241  21.28762491\n",
      "  21.01425579  20.76945131]\n"
     ]
    }
   ],
   "source": [
    "X = data_4\n",
    "pca = PCA(n_components=67)\n",
    "X_nuevo = pca.fit_transform(X) \n",
    "print(pca.explained_variance_ratio_)\n",
    "print(pca.singular_values_)"
   ]
  },
  {
   "cell_type": "code",
   "execution_count": 54,
   "metadata": {},
   "outputs": [
    {
     "name": "stdout",
     "output_type": "stream",
     "text": [
      "[0.53628207 0.63122932 0.72251329 0.76629354 0.79348168 0.81642385\n",
      " 0.83395715 0.84924543 0.86197879 0.87407584 0.88243033 0.89061106\n",
      " 0.89789821 0.90468706 0.91053278 0.91616095 0.92082083 0.92454376\n",
      " 0.92819391 0.93162441 0.93502855 0.93808189 0.94110089 0.94375861\n",
      " 0.94629468 0.94870382 0.9510764  0.95310396 0.9550434  0.95685055\n",
      " 0.95859651 0.96029983 0.96186021 0.96341563 0.96496638 0.96647023\n",
      " 0.96787611 0.96916453 0.97036864 0.97155726 0.97270769 0.97384875\n",
      " 0.9749369  0.97601487 0.97707431 0.97807351 0.97904704 0.97998632\n",
      " 0.98090379 0.98179855 0.98267898 0.98353494 0.98436811 0.9851898\n",
      " 0.98599945 0.986749   0.98747428 0.9881647  0.98885176 0.98951576\n",
      " 0.9901658  0.9907789  0.9913765  0.9919673  0.99253303 0.99308432\n",
      " 0.99362285]\n"
     ]
    }
   ],
   "source": [
    "print(pca.explained_variance_ratio_.cumsum())"
   ]
  },
  {
   "cell_type": "markdown",
   "metadata": {},
   "source": [
    "Con mi nuevo dataset retengo el 99% de la varianza"
   ]
  },
  {
   "cell_type": "markdown",
   "metadata": {},
   "source": [
    "# Evaluación de mi dataset con respecto a los modelos anteriormente utilizados"
   ]
  },
  {
   "cell_type": "markdown",
   "metadata": {},
   "source": [
    "Traigo de mi trabajo anterior los mismos modelos con los mismos hiperparámetros para evaluar el desempeño con el nuevo dataset"
   ]
  },
  {
   "cell_type": "code",
   "execution_count": 55,
   "metadata": {},
   "outputs": [],
   "source": [
    "from sklearn.linear_model import LinearRegression\n",
    "from sklearn.tree import DecisionTreeRegressor\n",
    "from sklearn.neighbors import KNeighborsRegressor"
   ]
  },
  {
   "cell_type": "code",
   "execution_count": 56,
   "metadata": {},
   "outputs": [
    {
     "name": "stdout",
     "output_type": "stream",
     "text": [
      "(82371, 67) (82371,) (35302, 67) (35302,)\n"
     ]
    }
   ],
   "source": [
    "from sklearn.model_selection import train_test_split\n",
    "X = X_nuevo\n",
    "y = data_3.price\n",
    "X_train, X_test, y_train, y_test = train_test_split(X, y, test_size=0.30, random_state=42)\n",
    "print(X_train.shape, y_train.shape, X_test.shape, y_test.shape)"
   ]
  },
  {
   "cell_type": "code",
   "execution_count": 57,
   "metadata": {},
   "outputs": [],
   "source": [
    "linear_model = LinearRegression()\n",
    "tree_regressor = DecisionTreeRegressor(max_depth=11, random_state=42)\n",
    "knn_regressor = KNeighborsRegressor(n_neighbors=8)"
   ]
  },
  {
   "cell_type": "code",
   "execution_count": 58,
   "metadata": {},
   "outputs": [
    {
     "data": {
      "text/plain": [
       "KNeighborsRegressor(n_neighbors=8)"
      ]
     },
     "execution_count": 58,
     "metadata": {},
     "output_type": "execute_result"
    }
   ],
   "source": [
    "linear_model.fit(X_train, y_train)\n",
    "tree_regressor.fit(X_train, y_train)\n",
    "knn_regressor.fit(X_train, y_train)"
   ]
  },
  {
   "cell_type": "code",
   "execution_count": 59,
   "metadata": {},
   "outputs": [
    {
     "name": "stdout",
     "output_type": "stream",
     "text": [
      "[  30023.81079547  -27472.41462112  -19254.34626324  -36772.12679647\n",
      "  -45973.43927595   -7342.0493556   -28102.35371824   12728.34293335\n",
      "  -26285.78758411   31273.28477701   -8607.16873637   40444.90003631\n",
      "   -7489.58629051   31758.36144894    5583.38907072    2010.34321182\n",
      "   43411.65137043   32086.17129096   -4438.83593431   -6099.72170206\n",
      "  -50504.97551285  -39507.56452123   52286.93728691   -2692.40390253\n",
      "    3211.94124307    2755.76560881  -15766.56809159   47794.34898834\n",
      "  -74025.00447043  -48284.88809986   17478.78512468   12952.09269467\n",
      "    2138.86656553  -20464.17825483  -29949.80854384   18736.59692631\n",
      "   25100.60533533   40354.18047597    1778.75627797   -1827.97469783\n",
      "    6244.55809423  -20240.16607841   22670.49495358  -21069.62168302\n",
      "  -13376.62706555   -3783.31785838   39633.32212873   -5377.42053678\n",
      "  -10516.41242517   -2762.56992746   34264.64551256   29838.26836495\n",
      "  -17007.81829741  -21106.1453373    21382.69071296   -6733.07574603\n",
      "  -11529.69058154  -19519.93115141   59113.13852521   50597.2239458\n",
      "  -43248.02847572    6686.57924394   -6115.37184351  136274.61928424\n",
      " -128820.36334738   24410.98699574  -80655.24662604] 175647.62860796205\n"
     ]
    }
   ],
   "source": [
    "print(linear_model.coef_, linear_model.intercept_)"
   ]
  },
  {
   "cell_type": "code",
   "execution_count": 60,
   "metadata": {},
   "outputs": [
    {
     "name": "stdout",
     "output_type": "stream",
     "text": [
      "Modelo: Regresión lineal\n",
      "Raíz del error cuadrático medio en Train: 52251.4721699104\n",
      "Raíz del error cuadrático medio en Test: 52234.82133254939\n",
      "El error r2 en Train es: 0.6820469498840136\n",
      "El error r2 en Test es: 0.684886319395872\n"
     ]
    },
    {
     "data": {
      "image/png": "[encoded data removed]",
      "text/plain": [
       "<Figure size 576x288 with 2 Axes>"
      ]
     },
     "metadata": {
      "needs_background": "light"
     },
     "output_type": "display_data"
    },
    {
     "name": "stdout",
     "output_type": "stream",
     "text": [
      "Modelo: Árbol de Decisión\n",
      "Raíz del error cuadrático medio en Train: 42088.65110928719\n",
      "Raíz del error cuadrático medio en Test: 47014.70290165983\n",
      "El error r2 en Train es: 0.7937015580222025\n",
      "El error r2 en Test es: 0.7447213918164005\n"
     ]
    },
    {
     "data": {
      "image/png": "[encoded data removed]",
      "text/plain": [
       "<Figure size 576x288 with 2 Axes>"
      ]
     },
     "metadata": {
      "needs_background": "light"
     },
     "output_type": "display_data"
    },
    {
     "name": "stdout",
     "output_type": "stream",
     "text": [
      "Modelo: Vecinos más cercanos\n",
      "Raíz del error cuadrático medio en Train: 38806.90229159893\n",
      "Raíz del error cuadrático medio en Test: 43357.01365733274\n",
      "El error r2 en Train es: 0.8246184565914152\n",
      "El error r2 en Test es: 0.7828970354638665\n"
     ]
    },
    {
     "data": {
      "image/png": "[encoded data removed]",
      "text/plain": [
       "<Figure size 576x288 with 2 Axes>"
      ]
     },
     "metadata": {
      "needs_background": "light"
     },
     "output_type": "display_data"
    }
   ],
   "source": [
    "from sklearn.metrics import mean_squared_error\n",
    "from sklearn.metrics import r2_score\n",
    "\n",
    "import seaborn as sns\n",
    "modelos = ['Regresión lineal', 'Árbol de Decisión', 'Vecinos más cercanos']\n",
    "\n",
    "for i, model in enumerate([linear_model, tree_regressor, knn_regressor]):\n",
    "    y_train_pred = model.predict(X_train)\n",
    "    y_test_pred = model.predict(X_test)\n",
    "    \n",
    "    print(f'Modelo: {modelos[i]}')\n",
    "    rmse_train = np.sqrt(mean_squared_error(y_train, y_train_pred))\n",
    "    rmse_test = np.sqrt(mean_squared_error(y_test, y_test_pred))\n",
    "    print(f'Raíz del error cuadrático medio en Train: {rmse_train}')\n",
    "    print(f'Raíz del error cuadrático medio en Test: {rmse_test}')\n",
    "    r2_train = r2_score(y_train, y_train_pred)\n",
    "    r2_test = r2_score(y_test, y_test_pred)\n",
    "    print(f\"El error r2 en Train es: {r2_train}\")\n",
    "    print(f\"El error r2 en Test es: {r2_test}\")\n",
    "    \n",
    "    plt.figure(figsize = (8,4))\n",
    "\n",
    "    plt.subplot(1,2,1)\n",
    "    sns.distplot(y_train - y_train_pred, bins = 20, label = 'train')\n",
    "    sns.distplot(y_test - y_test_pred, bins = 20, label = 'test')\n",
    "    plt.xlabel('errores')\n",
    "    plt.legend()\n",
    "\n",
    "    ax = plt.subplot(1,2,2)\n",
    "    ax.scatter(y_test,y_test_pred, s =2)    \n",
    "    lims = [\n",
    "    np.min([ax.get_xlim(), ax.get_ylim()]),  # min of both axes\n",
    "    np.max([ax.get_xlim(), ax.get_ylim()]),  # max of both axes]\n",
    "    ]\n",
    "    \n",
    "    ax.plot(lims, lims, 'k-', alpha=0.75, zorder=0)\n",
    "    plt.xlabel('y (test)')\n",
    "    plt.ylabel('y_pred (test)')\n",
    "    \n",
    "    plt.tight_layout()\n",
    "    plt.show()"
   ]
  },
  {
   "cell_type": "markdown",
   "metadata": {},
   "source": [
    "Este nuevo dataset ha mejorado en gran medida los resultados que había obtenido en el proyecto anterior con exactamente los mismos modelos:"
   ]
  },
  {
   "cell_type": "markdown",
   "metadata": {},
   "source": [
    "*Modelo de regresión lineal Proyecto 1*\n",
    "- Raíz del error cuadrático medio en Train: 203015.35633339902/////\n",
    "- Raíz del error cuadrático medio en Test: 205955.81413686287////\n",
    "- El error r2 en Train es: 0.5343324125533506////\n",
    "- El error r2 en Test es: 0.5358152638872632.\n",
    "\n",
    "En este caso, ha mejorado considerablemente la performance tanto en test como en train, prácticamente en igual medida. Esto nos puede indicar que nuestro nuevo dataset está mucho más preprocesado que el anterior y de manera correcta"
   ]
  },
  {
   "cell_type": "markdown",
   "metadata": {},
   "source": [
    "*Modelo Árboles de Decisión en Proyecto 1*\n",
    "- Raíz del error cuadrático medio en Train: 202993.54524281574\n",
    "- Raíz del error cuadrático medio en Test: 204792.88471910908\n",
    "- El error r2 en Train es: 0.534432465795805\n",
    "- El error r2 en Test es: 0.5410425021388487\n",
    "\n",
    "En este caso, el desempeño mejoró muchísimo, aunque es cierto que quizás la distancia entre el set de train y test se haya ampliado un poquito, lo que podría indicar overfitting.\n"
   ]
  },
  {
   "cell_type": "markdown",
   "metadata": {},
   "source": [
    "*Modelo de Vecinos más cercanos en Proyecto 1*\n",
    "- Raíz del error cuadrático medio en Train: 161891.72981294463\n",
    "- Raíz del error cuadrático medio en Test: 181732.7963361336\n",
    "- El error r2 en Train es: 0.7038801247608757\n",
    "- El error r2 en Test es: 0.6385823477171335\n",
    "\n",
    "En los vecinos más cercanos, no sólo que mejoró la performance sino que también creo que se ha reducido la diferencia entre test y train"
   ]
  },
  {
   "cell_type": "markdown",
   "metadata": {},
   "source": [
    "## <span style=\"color:blue\"> PARTE B: Modelos Avanzados </span>"
   ]
  },
  {
   "cell_type": "markdown",
   "metadata": {},
   "source": [
    "Trabajamos ahora con modelos avanzados para buscar mejores resultados en el dataset.\n",
    "Aplicaremos primero un Random Forest y uno de Polynomial Features con regularización. "
   ]
  },
  {
   "cell_type": "code",
   "execution_count": 61,
   "metadata": {},
   "outputs": [],
   "source": [
    "from sklearn.ensemble import RandomForestRegressor\n",
    "from sklearn.model_selection import cross_val_score\n",
    "from sklearn.model_selection import cross_validate\n",
    "import sklearn.metrics as metrics\n",
    "from sklearn.model_selection import learning_curve"
   ]
  },
  {
   "cell_type": "markdown",
   "metadata": {},
   "source": [
    "Definimos variables X e y, y realizamos un train/test split del 30%"
   ]
  },
  {
   "cell_type": "code",
   "execution_count": 62,
   "metadata": {},
   "outputs": [
    {
     "name": "stdout",
     "output_type": "stream",
     "text": [
      "(82371, 67) (82371,) (35302, 67) (35302,)\n"
     ]
    }
   ],
   "source": [
    "X = X_nuevo\n",
    "y = data_3.price\n",
    "X_train, X_test, y_train, y_test = train_test_split(X, y, test_size=0.30, random_state=42)\n",
    "print(X_train.shape, y_train.shape, X_test.shape, y_test.shape)"
   ]
  },
  {
   "cell_type": "markdown",
   "metadata": {},
   "source": [
    "# Modelo 1: Random Forest"
   ]
  },
  {
   "cell_type": "markdown",
   "metadata": {},
   "source": [
    "Elegimos comenzar con un Random Forest, ya que anteriormente el modelo de árbol de decisión nos dio buenos resultados. Algunos hiperparámetros son aleatorios, pero damos una profundidad de 11, que es lo que mejor nos funcionó anteriormente."
   ]
  },
  {
   "cell_type": "code",
   "execution_count": 63,
   "metadata": {},
   "outputs": [
    {
     "data": {
      "text/plain": [
       "RandomForestRegressor(max_depth=11, max_features='sqrt', n_estimators=20,\n",
       "                      n_jobs=-1, random_state=42)"
      ]
     },
     "execution_count": 63,
     "metadata": {},
     "output_type": "execute_result"
    }
   ],
   "source": [
    "regr = RandomForestRegressor(n_estimators=20, max_depth=11, max_features='sqrt', n_jobs=-1, random_state = 42)\n",
    "regr.fit(X_train,y_train)"
   ]
  },
  {
   "cell_type": "code",
   "execution_count": 64,
   "metadata": {},
   "outputs": [],
   "source": [
    "y_train_pred = regr.predict(X_train)\n",
    "y_test_pred = regr.predict(X_test)"
   ]
  },
  {
   "cell_type": "markdown",
   "metadata": {},
   "source": [
    "Analizo la performance del modelo utilizando R2, RSME y Cross Validation con un K Fold de 5 para no sobrecargar la pc."
   ]
  },
  {
   "cell_type": "code",
   "execution_count": 65,
   "metadata": {},
   "outputs": [
    {
     "name": "stdout",
     "output_type": "stream",
     "text": [
      "R^2 Training Score: 0.81 \n",
      "R^2 Validation Score: 0.78 \n",
      "Rsme Train: 40520.79  \n",
      "Rsme Test: 44003.35 \n",
      "r2_cv: 0.77 \n",
      "rsme_cv: -44356.16\n"
     ]
    }
   ],
   "source": [
    "print('R^2 Training Score: {:.2f} \\nR^2 Validation Score: {:.2f} \\nRsme Train: {:.2f}  \\nRsme Test: {:.2f} \\nr2_cv: {:.2f} \\nrsme_cv: {:.2f}'.format(regr.score(X_train, y_train), \n",
    "                                                                                             regr.score(X_test, y_test),\n",
    "                                                                                             np.sqrt(metrics.mean_squared_error(y_train, y_train_pred)),\n",
    "                                                                                             np.sqrt(metrics.mean_squared_error(y_test, y_test_pred)),\n",
    "                                                                                             cross_val_score(regr, X_train, y_train, scoring=\"r2\", cv=5).mean(),\n",
    "                                                                                             cross_val_score(regr, X_train, y_train, scoring='neg_root_mean_squared_error', cv=5).mean()))\n",
    "                                                                                             "
   ]
  },
  {
   "cell_type": "markdown",
   "metadata": {},
   "source": [
    "El primer modelo con hiperparámetros al azar ha dado buenos resultados, mejores que antes. \n",
    "De todos modos, analizaremos cuáles son los hiperparámetros más apropiados. Excluiremos OOB ya que aparentemente no todos los inputs lo tienen."
   ]
  },
  {
   "cell_type": "markdown",
   "metadata": {},
   "source": [
    "Elegimos los mejores parámetros de nuestro modelo. Para esto, utilizamos Random Grid Search y analizamos cada uno de los hiperparámetros que quiero tener en cuenta."
   ]
  },
  {
   "cell_type": "code",
   "execution_count": 103,
   "metadata": {},
   "outputs": [
    {
     "name": "stdout",
     "output_type": "stream",
     "text": [
      "{'n_estimators': 26, 'max_features': 'sqrt', 'max_depth': 18, 'criterion': 'mse', 'bootstrap': True}\n"
     ]
    }
   ],
   "source": [
    "from sklearn.model_selection import RandomizedSearchCV\n",
    "\n",
    "X, y = X_nuevo, data_3.price\n",
    "model = RandomForestRegressor(random_state=42)\n",
    "param_grid = {'n_estimators':np.arange(1, 80),\n",
    "              'criterion': [\"auto\",'mse'], \n",
    "              'max_features':[\"auto\", \"sqrt\"],\n",
    "              \"bootstrap\": [True, False],\n",
    "              'max_depth':np.arange(1, 20)}\n",
    "grid_search = RandomizedSearchCV(model, param_grid, n_jobs=-1, cv=2, n_iter = 25)\n",
    "grid_search.fit(X_nuevo, data_3.price)\n",
    "print(grid_search.best_params_)"
   ]
  },
  {
   "cell_type": "markdown",
   "metadata": {},
   "source": [
    "Aplicamos los resultados obtenidos en un modelo que llamamos reg2"
   ]
  },
  {
   "cell_type": "code",
   "execution_count": 66,
   "metadata": {},
   "outputs": [
    {
     "data": {
      "text/plain": [
       "RandomForestRegressor(bootstrap=False, max_depth=18, max_features='sqrt',\n",
       "                      n_estimators=26, n_jobs=-1, random_state=42)"
      ]
     },
     "execution_count": 66,
     "metadata": {},
     "output_type": "execute_result"
    }
   ],
   "source": [
    "reg2 = RandomForestRegressor(n_estimators=26, max_depth=18, criterion=\"mse\", max_features='sqrt', bootstrap=False, n_jobs=-1, random_state = 42)\n",
    "reg2.fit(X_train,y_train)"
   ]
  },
  {
   "cell_type": "code",
   "execution_count": 67,
   "metadata": {},
   "outputs": [],
   "source": [
    "y_train_pred_reg2 = reg2.predict(X_train)\n",
    "y_test_pred_reg2 = reg2.predict(X_test)"
   ]
  },
  {
   "cell_type": "code",
   "execution_count": 68,
   "metadata": {},
   "outputs": [
    {
     "name": "stdout",
     "output_type": "stream",
     "text": [
      "R^2 Training Score: 0.93 \n",
      "R^2 Validation Score: 0.83 \n",
      "Rsme Train: 25357.41  \n",
      "Rsme Test: 38147.78 \n",
      "r2_cv: 0.82 \n",
      "rsme_cv: -39445.02\n"
     ]
    }
   ],
   "source": [
    "print('R^2 Training Score: {:.2f} \\nR^2 Validation Score: {:.2f} \\nRsme Train: {:.2f}  \\nRsme Test: {:.2f} \\nr2_cv: {:.2f} \\nrsme_cv: {:.2f}'.format(reg2.score(X_train, y_train), \n",
    "                                                                                             reg2.score(X_test, y_test),\n",
    "                                                                                             np.sqrt(metrics.mean_squared_error(y_train, y_train_pred_reg2)),\n",
    "                                                                                             np.sqrt(metrics.mean_squared_error(y_test, y_test_pred_reg2)),\n",
    "                                                                                             cross_val_score(reg2, X_train, y_train, scoring='r2', cv=5).mean(),\n",
    "                                                                                             cross_val_score(reg2, X_train, y_train, scoring='neg_root_mean_squared_error', cv=5).mean()))\n",
    "                                                                                             "
   ]
  },
  {
   "cell_type": "markdown",
   "metadata": {},
   "source": [
    "En este caso vemos que el modelo ha mejorado muchísimo en comparación a los otros modelos que se aplicaron anteriormente, incluso el de vecinos más cercanos. Obtengo también un buen resultado con cross validation de 5 K folds. "
   ]
  },
  {
   "cell_type": "markdown",
   "metadata": {},
   "source": [
    "# Modelo 2: Polynomial Features con Regularización Lasso y Ridge "
   ]
  },
  {
   "cell_type": "markdown",
   "metadata": {},
   "source": [
    "Ya vimos en el proyecto 1, y con los resultados que hemos obtenido ahora, que la regresión linal simple no es el mejor modelo que se ajusta a este problema, justamente porque es un problema no lineal. Por esta razón, trabajaremos con Polynomila Features para ajustarlo mejor a un problema lineal. Se utilizará como hiperparámetro el grado 2, porque el dataset ya es grande y se elevaría muchísimo más si pongo otros grados, teniendo un costo computacional altísimo. "
   ]
  },
  {
   "cell_type": "markdown",
   "metadata": {},
   "source": [
    "Preparamos el dataset"
   ]
  },
  {
   "cell_type": "code",
   "execution_count": 69,
   "metadata": {},
   "outputs": [],
   "source": [
    "from sklearn.preprocessing import PolynomialFeatures\n",
    "from sklearn import linear_model\n",
    "from sklearn.pipeline import Pipeline"
   ]
  },
  {
   "cell_type": "code",
   "execution_count": 70,
   "metadata": {},
   "outputs": [],
   "source": [
    "X = X_nuevo\n",
    "y = data_3.price\n",
    "X_train, X_test, y_train, y_test = train_test_split(X, y, test_size=0.30, random_state=42)"
   ]
  },
  {
   "cell_type": "code",
   "execution_count": 71,
   "metadata": {},
   "outputs": [
    {
     "name": "stdout",
     "output_type": "stream",
     "text": [
      "(82371, 67) (82371,) (35302, 67) (35302,) (117673, 67) (117673,)\n"
     ]
    }
   ],
   "source": [
    "print(X_train.shape, y_train.shape, X_test.shape, y_test.shape, X.shape, y.shape)"
   ]
  },
  {
   "cell_type": "markdown",
   "metadata": {},
   "source": [
    "Por el tamaño del dataset, trabajaremos con un degree de 2 y no realizaremos un Random Search o Grid Search porque de todos modos, la computadora no podría procesar mucho más (se intentó varias veces)."
   ]
  },
  {
   "cell_type": "code",
   "execution_count": 66,
   "metadata": {},
   "outputs": [
    {
     "name": "stdout",
     "output_type": "stream",
     "text": [
      "(82371, 2345) (35302, 2345)\n"
     ]
    }
   ],
   "source": [
    "poly = PolynomialFeatures(degree = 2, include_bias=False) \n",
    "X_train_new = poly.fit_transform(X_train)\n",
    "X_test_new = poly.fit_transform(X_test)\n",
    "print(X_train_new.shape, X_test_new.shape)"
   ]
  },
  {
   "cell_type": "markdown",
   "metadata": {},
   "source": [
    "Una vez entrenados los datos de X en Polynomial Features, los utilizo para evaluar los resultados con r2 en una regresión Lineal, en Lasso y en Ridge con sus hiperparámetros por defecto. Se realizan sólo 3 iteraciones porque el costo computacional sería muy alto.  "
   ]
  },
  {
   "cell_type": "code",
   "execution_count": 70,
   "metadata": {},
   "outputs": [],
   "source": [
    "def test(models, X_train, X_test, y_train, y_test, iterations = 3):\n",
    "    results = {}\n",
    "    for i in models:\n",
    "        r2_train = []\n",
    "        r2_test = []\n",
    "        for j in range(iterations):\n",
    "           \n",
    "            r2_test.append(metrics.r2_score(y_test,\n",
    "                                            models[i].fit(X_train, \n",
    "                                                         y_train).predict(X_test)))\n",
    "            r2_train.append(metrics.r2_score(y_train, \n",
    "                                             models[i].fit(X_train, \n",
    "                                                          y_train).predict(X_train)))\n",
    "        results[i] = [np.mean(r2_train), np.mean(r2_test)]\n",
    "    return pd.DataFrame(results)"
   ]
  },
  {
   "cell_type": "code",
   "execution_count": 197,
   "metadata": {},
   "outputs": [],
   "source": [
    "models = {'OLS': linear_model.LinearRegression(),\n",
    "         'Lasso': linear_model.Lasso(tol = 0.01),\n",
    "         'Ridge': linear_model.Ridge(tol = 0.01)}"
   ]
  },
  {
   "cell_type": "code",
   "execution_count": 198,
   "metadata": {},
   "outputs": [
    {
     "name": "stderr",
     "output_type": "stream",
     "text": [
      "/Users/eugeniasandrone/opt/miniconda3/envs/datascience/lib/python3.8/site-packages/sklearn/linear_model/_coordinate_descent.py:529: ConvergenceWarning: Objective did not converge. You might want to increase the number of iterations. Duality gap: 69353374123378.19, tolerance: 7073077310729.896\n",
      "  model = cd_fast.enet_coordinate_descent(\n",
      "/Users/eugeniasandrone/opt/miniconda3/envs/datascience/lib/python3.8/site-packages/sklearn/linear_model/_coordinate_descent.py:529: ConvergenceWarning: Objective did not converge. You might want to increase the number of iterations. Duality gap: 69353374123378.19, tolerance: 7073077310729.896\n",
      "  model = cd_fast.enet_coordinate_descent(\n",
      "/Users/eugeniasandrone/opt/miniconda3/envs/datascience/lib/python3.8/site-packages/sklearn/linear_model/_coordinate_descent.py:529: ConvergenceWarning: Objective did not converge. You might want to increase the number of iterations. Duality gap: 69353374123378.19, tolerance: 7073077310729.896\n",
      "  model = cd_fast.enet_coordinate_descent(\n",
      "/Users/eugeniasandrone/opt/miniconda3/envs/datascience/lib/python3.8/site-packages/sklearn/linear_model/_coordinate_descent.py:529: ConvergenceWarning: Objective did not converge. You might want to increase the number of iterations. Duality gap: 69353374123378.19, tolerance: 7073077310729.896\n",
      "  model = cd_fast.enet_coordinate_descent(\n",
      "/Users/eugeniasandrone/opt/miniconda3/envs/datascience/lib/python3.8/site-packages/sklearn/linear_model/_coordinate_descent.py:529: ConvergenceWarning: Objective did not converge. You might want to increase the number of iterations. Duality gap: 69353374123378.19, tolerance: 7073077310729.896\n",
      "  model = cd_fast.enet_coordinate_descent(\n",
      "/Users/eugeniasandrone/opt/miniconda3/envs/datascience/lib/python3.8/site-packages/sklearn/linear_model/_coordinate_descent.py:529: ConvergenceWarning: Objective did not converge. You might want to increase the number of iterations. Duality gap: 69353374123378.19, tolerance: 7073077310729.896\n",
      "  model = cd_fast.enet_coordinate_descent(\n"
     ]
    },
    {
     "data": {
      "text/html": [
       "<div>\n",
       "<style scoped>\n",
       "    .dataframe tbody tr th:only-of-type {\n",
       "        vertical-align: middle;\n",
       "    }\n",
       "\n",
       "    .dataframe tbody tr th {\n",
       "        vertical-align: top;\n",
       "    }\n",
       "\n",
       "    .dataframe thead th {\n",
       "        text-align: right;\n",
       "    }\n",
       "</style>\n",
       "<table border=\"1\" class=\"dataframe\">\n",
       "  <thead>\n",
       "    <tr style=\"text-align: right;\">\n",
       "      <th></th>\n",
       "      <th>OLS</th>\n",
       "      <th>Lasso</th>\n",
       "      <th>Ridge</th>\n",
       "    </tr>\n",
       "  </thead>\n",
       "  <tbody>\n",
       "    <tr>\n",
       "      <th>0</th>\n",
       "      <td>0.746883</td>\n",
       "      <td>0.744810</td>\n",
       "      <td>0.744949</td>\n",
       "    </tr>\n",
       "    <tr>\n",
       "      <th>1</th>\n",
       "      <td>0.746007</td>\n",
       "      <td>0.744886</td>\n",
       "      <td>0.744804</td>\n",
       "    </tr>\n",
       "  </tbody>\n",
       "</table>\n",
       "</div>"
      ],
      "text/plain": [
       "        OLS     Lasso     Ridge\n",
       "0  0.746883  0.744810  0.744949\n",
       "1  0.746007  0.744886  0.744804"
      ]
     },
     "execution_count": 198,
     "metadata": {},
     "output_type": "execute_result"
    }
   ],
   "source": [
    "test(models,X_train_new, X_test_new, y_train, y_test)"
   ]
  },
  {
   "cell_type": "markdown",
   "metadata": {},
   "source": [
    "Los resultados nos han dado bastantes similares entre ellos (quizás por el bajo número de iteraciones) y más bajos que los del random forest. Para mejorar el desempeño, buscaremos hiperparámetros de alpha para Ridge y Alpha, pero por una cuestión de capacidad, pondremos sólo 3 en cada uno bastante distantes para ver si exist diferencia. Grid Search hace por defecto un cross validation de k = 3, y en este momento no lo alteraremos."
   ]
  },
  {
   "cell_type": "code",
   "execution_count": 67,
   "metadata": {},
   "outputs": [
    {
     "name": "stderr",
     "output_type": "stream",
     "text": [
      "/Users/eugeniasandrone/opt/miniconda3/envs/datascience/lib/python3.8/site-packages/sklearn/linear_model/_coordinate_descent.py:529: ConvergenceWarning: Objective did not converge. You might want to increase the number of iterations. Duality gap: 71122585770361.89, tolerance: 56432192634.355316\n",
      "  model = cd_fast.enet_coordinate_descent(\n",
      "/Users/eugeniasandrone/opt/miniconda3/envs/datascience/lib/python3.8/site-packages/sklearn/linear_model/_coordinate_descent.py:529: ConvergenceWarning: Objective did not converge. You might want to increase the number of iterations. Duality gap: 70815277407095.22, tolerance: 56766872311.68293\n",
      "  model = cd_fast.enet_coordinate_descent(\n",
      "/Users/eugeniasandrone/opt/miniconda3/envs/datascience/lib/python3.8/site-packages/sklearn/linear_model/_coordinate_descent.py:529: ConvergenceWarning: Objective did not converge. You might want to increase the number of iterations. Duality gap: 71151207865181.02, tolerance: 56614762133.26008\n",
      "  model = cd_fast.enet_coordinate_descent(\n",
      "/Users/eugeniasandrone/opt/miniconda3/envs/datascience/lib/python3.8/site-packages/sklearn/linear_model/_coordinate_descent.py:529: ConvergenceWarning: Objective did not converge. You might want to increase the number of iterations. Duality gap: 71589411261647.8, tolerance: 56684362988.10834\n",
      "  model = cd_fast.enet_coordinate_descent(\n",
      "/Users/eugeniasandrone/opt/miniconda3/envs/datascience/lib/python3.8/site-packages/sklearn/linear_model/_coordinate_descent.py:529: ConvergenceWarning: Objective did not converge. You might want to increase the number of iterations. Duality gap: 70846179086686.1, tolerance: 56424409118.585915\n",
      "  model = cd_fast.enet_coordinate_descent(\n",
      "/Users/eugeniasandrone/opt/miniconda3/envs/datascience/lib/python3.8/site-packages/sklearn/linear_model/_coordinate_descent.py:529: ConvergenceWarning: Objective did not converge. You might want to increase the number of iterations. Duality gap: 69886521478725.68, tolerance: 56432192634.355316\n",
      "  model = cd_fast.enet_coordinate_descent(\n",
      "/Users/eugeniasandrone/opt/miniconda3/envs/datascience/lib/python3.8/site-packages/sklearn/linear_model/_coordinate_descent.py:529: ConvergenceWarning: Objective did not converge. You might want to increase the number of iterations. Duality gap: 70174588359150.48, tolerance: 56766872311.68293\n",
      "  model = cd_fast.enet_coordinate_descent(\n",
      "/Users/eugeniasandrone/opt/miniconda3/envs/datascience/lib/python3.8/site-packages/sklearn/linear_model/_coordinate_descent.py:529: ConvergenceWarning: Objective did not converge. You might want to increase the number of iterations. Duality gap: 70214988945351.04, tolerance: 56614762133.26008\n",
      "  model = cd_fast.enet_coordinate_descent(\n",
      "/Users/eugeniasandrone/opt/miniconda3/envs/datascience/lib/python3.8/site-packages/sklearn/linear_model/_coordinate_descent.py:529: ConvergenceWarning: Objective did not converge. You might want to increase the number of iterations. Duality gap: 70319053707184.19, tolerance: 56684362988.10834\n",
      "  model = cd_fast.enet_coordinate_descent(\n",
      "/Users/eugeniasandrone/opt/miniconda3/envs/datascience/lib/python3.8/site-packages/sklearn/linear_model/_coordinate_descent.py:529: ConvergenceWarning: Objective did not converge. You might want to increase the number of iterations. Duality gap: 69745277446808.96, tolerance: 56424409118.585915\n",
      "  model = cd_fast.enet_coordinate_descent(\n",
      "/Users/eugeniasandrone/opt/miniconda3/envs/datascience/lib/python3.8/site-packages/sklearn/linear_model/_coordinate_descent.py:529: ConvergenceWarning: Objective did not converge. You might want to increase the number of iterations. Duality gap: 68891957626411.14, tolerance: 56432192634.355316\n",
      "  model = cd_fast.enet_coordinate_descent(\n",
      "/Users/eugeniasandrone/opt/miniconda3/envs/datascience/lib/python3.8/site-packages/sklearn/linear_model/_coordinate_descent.py:529: ConvergenceWarning: Objective did not converge. You might want to increase the number of iterations. Duality gap: 69358397957435.1, tolerance: 56766872311.68293\n",
      "  model = cd_fast.enet_coordinate_descent(\n",
      "/Users/eugeniasandrone/opt/miniconda3/envs/datascience/lib/python3.8/site-packages/sklearn/linear_model/_coordinate_descent.py:529: ConvergenceWarning: Objective did not converge. You might want to increase the number of iterations. Duality gap: 69177494375755.914, tolerance: 56614762133.26008\n",
      "  model = cd_fast.enet_coordinate_descent(\n",
      "/Users/eugeniasandrone/opt/miniconda3/envs/datascience/lib/python3.8/site-packages/sklearn/linear_model/_coordinate_descent.py:529: ConvergenceWarning: Objective did not converge. You might want to increase the number of iterations. Duality gap: 69646014481583.5, tolerance: 56684362988.10834\n",
      "  model = cd_fast.enet_coordinate_descent(\n",
      "/Users/eugeniasandrone/opt/miniconda3/envs/datascience/lib/python3.8/site-packages/sklearn/linear_model/_coordinate_descent.py:529: ConvergenceWarning: Objective did not converge. You might want to increase the number of iterations. Duality gap: 68368163349836.69, tolerance: 56424409118.585915\n",
      "  model = cd_fast.enet_coordinate_descent(\n",
      "/Users/eugeniasandrone/opt/miniconda3/envs/datascience/lib/python3.8/site-packages/sklearn/linear_model/_coordinate_descent.py:529: ConvergenceWarning: Objective did not converge. You might want to increase the number of iterations. Duality gap: 86886235338081.78, tolerance: 70730773107.29897\n",
      "  model = cd_fast.enet_coordinate_descent(\n"
     ]
    }
   ],
   "source": [
    "from sklearn.model_selection import GridSearchCV\n",
    "from sklearn.linear_model import Lasso\n",
    "from sklearn.linear_model import Ridge\n",
    "\n",
    "lasso_params = {'alpha':[0.02, 0.05, 0.1]}\n",
    "ridge_params = {'alpha':[100, 300, 500]}\n",
    "\n",
    "models2 = {'OLS': linear_model.LinearRegression(),\n",
    "           'Lasso': GridSearchCV(linear_model.Lasso(), \n",
    "                               param_grid=lasso_params).fit(X_train_new, y_train).best_estimator_,\n",
    "           'Ridge': GridSearchCV(linear_model.Ridge(), \n",
    "                               param_grid=ridge_params).fit(X_test_new, y_test).best_estimator_,}"
   ]
  },
  {
   "cell_type": "code",
   "execution_count": 71,
   "metadata": {},
   "outputs": [
    {
     "name": "stderr",
     "output_type": "stream",
     "text": [
      "/Users/eugeniasandrone/opt/miniconda3/envs/datascience/lib/python3.8/site-packages/sklearn/linear_model/_coordinate_descent.py:529: ConvergenceWarning: Objective did not converge. You might want to increase the number of iterations. Duality gap: 86886235338081.78, tolerance: 70730773107.29897\n",
      "  model = cd_fast.enet_coordinate_descent(\n",
      "/Users/eugeniasandrone/opt/miniconda3/envs/datascience/lib/python3.8/site-packages/sklearn/linear_model/_coordinate_descent.py:529: ConvergenceWarning: Objective did not converge. You might want to increase the number of iterations. Duality gap: 86886235338081.78, tolerance: 70730773107.29897\n",
      "  model = cd_fast.enet_coordinate_descent(\n",
      "/Users/eugeniasandrone/opt/miniconda3/envs/datascience/lib/python3.8/site-packages/sklearn/linear_model/_coordinate_descent.py:529: ConvergenceWarning: Objective did not converge. You might want to increase the number of iterations. Duality gap: 86886235338081.78, tolerance: 70730773107.29897\n",
      "  model = cd_fast.enet_coordinate_descent(\n",
      "/Users/eugeniasandrone/opt/miniconda3/envs/datascience/lib/python3.8/site-packages/sklearn/linear_model/_coordinate_descent.py:529: ConvergenceWarning: Objective did not converge. You might want to increase the number of iterations. Duality gap: 86886235338081.78, tolerance: 70730773107.29897\n",
      "  model = cd_fast.enet_coordinate_descent(\n",
      "/Users/eugeniasandrone/opt/miniconda3/envs/datascience/lib/python3.8/site-packages/sklearn/linear_model/_coordinate_descent.py:529: ConvergenceWarning: Objective did not converge. You might want to increase the number of iterations. Duality gap: 86886235338081.78, tolerance: 70730773107.29897\n",
      "  model = cd_fast.enet_coordinate_descent(\n",
      "/Users/eugeniasandrone/opt/miniconda3/envs/datascience/lib/python3.8/site-packages/sklearn/linear_model/_coordinate_descent.py:529: ConvergenceWarning: Objective did not converge. You might want to increase the number of iterations. Duality gap: 86886235338081.78, tolerance: 70730773107.29897\n",
      "  model = cd_fast.enet_coordinate_descent(\n"
     ]
    },
    {
     "data": {
      "text/html": [
       "<div>\n",
       "<style scoped>\n",
       "    .dataframe tbody tr th:only-of-type {\n",
       "        vertical-align: middle;\n",
       "    }\n",
       "\n",
       "    .dataframe tbody tr th {\n",
       "        vertical-align: top;\n",
       "    }\n",
       "\n",
       "    .dataframe thead th {\n",
       "        text-align: right;\n",
       "    }\n",
       "</style>\n",
       "<table border=\"1\" class=\"dataframe\">\n",
       "  <thead>\n",
       "    <tr style=\"text-align: right;\">\n",
       "      <th></th>\n",
       "      <th>OLS</th>\n",
       "      <th>Lasso</th>\n",
       "      <th>Ridge</th>\n",
       "    </tr>\n",
       "  </thead>\n",
       "  <tbody>\n",
       "    <tr>\n",
       "      <th>0</th>\n",
       "      <td>0.746808</td>\n",
       "      <td>0.744592</td>\n",
       "      <td>0.739544</td>\n",
       "    </tr>\n",
       "    <tr>\n",
       "      <th>1</th>\n",
       "      <td>0.746002</td>\n",
       "      <td>0.744458</td>\n",
       "      <td>0.740394</td>\n",
       "    </tr>\n",
       "  </tbody>\n",
       "</table>\n",
       "</div>"
      ],
      "text/plain": [
       "        OLS     Lasso     Ridge\n",
       "0  0.746808  0.744592  0.739544\n",
       "1  0.746002  0.744458  0.740394"
      ]
     },
     "execution_count": 71,
     "metadata": {},
     "output_type": "execute_result"
    }
   ],
   "source": [
    "test(models2,X_train_new, X_test_new, y_train, y_test)"
   ]
  },
  {
   "cell_type": "markdown",
   "metadata": {},
   "source": [
    "No existe mucha diferencia en el desempeño de los 3 modelos, es más, veo una muy leve ventaja en el modelo sin regularización. Tampoco veo mucha diferencia luego de haber pulido los hiperparámetros. Calculo que puede ser porque los predictores del modelo tienen más o menos el mismo peso. Es decir, independientemente de que lasso elimine variables o que ridge le asigne más peso a algunas variables, no estarían modificando el resultado. Quizás por eso el modelo OLS también dió levemente mejor."
   ]
  },
  {
   "cell_type": "markdown",
   "metadata": {},
   "source": [
    "## <span style=\"color:blue\"> PARTE C: Interpretación de los modelos </span>"
   ]
  },
  {
   "cell_type": "markdown",
   "metadata": {},
   "source": [
    "En conclusión, el modelo que mejor resultados me ha dado es el de Random Forest con los siguientes errores:\n",
    "- R^2 Training Score: 0.93 \n",
    "- R^2 Validation Score: 0.83 \n",
    "- Rsme Train: 25259.09  \n",
    "- Rsme Test: 37954.30 \n",
    "- r2_cv: 0.82 \n",
    "- rsme_cv: -39419.39\n",
    "\n",
    "En este momento, estoy relativamente conforme con los resultados del modelo, sin embargo no me dejan de venir otras ideas que tal vez (no lo sé) podrían haber arrojado diferentes resultados:\n",
    "* Desde la transformación de datos: Mi análisis de los datos ha pivotado en función al tipo de propiedad, porque partí de la hipóteisis que éste sería un buen predictor del precio. Ahora pienso cómo hubiese sido mi imputación o reemplazo de datos si mi análisis hubiese girado más en torno a L3, por ejemplo, ya que veo que esta variable es de gran importancia por el análisis que sigue. Quizás algunas otras decisiones algo diferentes podría haber tomado, como excluido ciertas zonas y así reducir también la dimensionalidad del modelo. \n",
    "* Desde la elección de hiperparámetros de los modelos: Si bien considero que he realizado los pasos correctos para la elección de hiperparámetros, con procesadores más potentes podría haber intentado más opciones, por ejemplo más iteraciones en random search, ya que cada vez que intentaba me tiraba resultados diferentes de hiperparámetros que obviamente modificaban mi resultado. "
   ]
  },
  {
   "cell_type": "markdown",
   "metadata": {},
   "source": [
    "*Features de mayor importancia*"
   ]
  },
  {
   "cell_type": "markdown",
   "metadata": {},
   "source": [
    "Al haber aplicado un PCA, he perdido relación con mi dataset inicial para obtener el nombre de los features, pero no dejaré de analizarlo porque me puede dar información relevante. En este caso, grafico los  features más importantes del modelo de random forest optimizado."
   ]
  },
  {
   "cell_type": "code",
   "execution_count": 162,
   "metadata": {},
   "outputs": [
    {
     "data": {
      "text/plain": [
       "array([0.18672762, 0.04439159, 0.02852194, 0.04846082, 0.02972858,\n",
       "       0.00591983, 0.00638372, 0.00616164, 0.02427405, 0.01569491,\n",
       "       0.00705557, 0.02315361, 0.00916332, 0.00983152, 0.00755441,\n",
       "       0.0116089 , 0.01636832, 0.00490389, 0.01955904, 0.00899196,\n",
       "       0.01130838, 0.01066709, 0.00761752, 0.00737345, 0.00794539,\n",
       "       0.00868505, 0.0105749 , 0.00949893, 0.01374834, 0.00789005,\n",
       "       0.00649011, 0.00764034, 0.01353016, 0.00742123, 0.01199578,\n",
       "       0.00676949, 0.0090119 , 0.00660001, 0.00536928, 0.00585279,\n",
       "       0.00801943, 0.00591765, 0.00509835, 0.00996175, 0.01042816,\n",
       "       0.00411054, 0.00470022, 0.00558709, 0.01837322, 0.0088665 ,\n",
       "       0.00509043, 0.00802828, 0.00448201, 0.02550912, 0.00979405,\n",
       "       0.00794615, 0.00464946, 0.00886093, 0.00864367, 0.02285182,\n",
       "       0.01384793, 0.01325746, 0.01367715, 0.00986044, 0.01538934,\n",
       "       0.04991726, 0.00668612])"
      ]
     },
     "execution_count": 162,
     "metadata": {},
     "output_type": "execute_result"
    }
   ],
   "source": [
    "reg2.feature_importances_"
   ]
  },
  {
   "cell_type": "code",
   "execution_count": 163,
   "metadata": {},
   "outputs": [],
   "source": [
    "X_nuevo_dataframe = pd.DataFrame(X_nuevo)"
   ]
  },
  {
   "cell_type": "code",
   "execution_count": 74,
   "metadata": {},
   "outputs": [
    {
     "data": {
      "image/png": "[encoded data removed]",
      "text/plain": [
       "<Figure size 1080x576 with 1 Axes>"
      ]
     },
     "metadata": {
      "needs_background": "light"
     },
     "output_type": "display_data"
    }
   ],
   "source": [
    "importances = reg2.feature_importances_\n",
    "columns = X_nuevo_dataframe.columns\n",
    "indices = np.argsort(importances)[::-1]\n",
    "\n",
    "plt.figure(figsize = (15,8))\n",
    "plt.xticks(rotation = 90)\n",
    "sns.barplot(columns[indices], importances[indices])\n",
    "plt.show()"
   ]
  },
  {
   "cell_type": "markdown",
   "metadata": {},
   "source": [
    "Si bien no tengo los nombres de los features, esta distribución ya me dice que hay un atributo con peso bastante más grande que los otros, y que si no fuese por 2 o 3 variables más, el resto de los atributos tienen un peso relativamente similar y reducido. Nota: no aplico un heat map de corr porque por la cantidad de variables, es ilegibe, y ya estoy viendo el peso que obtiene cada una.\n",
    "\n",
    "Aunque quizás no sea la idea más óptima extrapolar resultados en este caso, me atrevo a utilizar el dataset anterior al PCA y entrenarlo con el mismo modelo para ver los resultados que me arroja (con los nombres de los features) para sacer más conclusiones. "
   ]
  },
  {
   "cell_type": "code",
   "execution_count": 75,
   "metadata": {},
   "outputs": [
    {
     "name": "stdout",
     "output_type": "stream",
     "text": [
      "(82371, 101) (82371,) (35302, 101) (35302,)\n"
     ]
    }
   ],
   "source": [
    "X = data_4\n",
    "y = data_3.price\n",
    "X_train, X_test, y_train, y_test = train_test_split(X, y, test_size=0.30, random_state=42)\n",
    "print(X_train.shape, y_train.shape, X_test.shape, y_test.shape)"
   ]
  },
  {
   "cell_type": "code",
   "execution_count": 76,
   "metadata": {},
   "outputs": [
    {
     "data": {
      "text/plain": [
       "RandomForestRegressor(bootstrap=False, max_depth=18, max_features='sqrt',\n",
       "                      n_estimators=26, n_jobs=-1, random_state=42)"
      ]
     },
     "execution_count": 76,
     "metadata": {},
     "output_type": "execute_result"
    }
   ],
   "source": [
    "reg3 = RandomForestRegressor(n_estimators=26, max_depth=18, criterion=\"mse\", max_features='sqrt', bootstrap=False, n_jobs=-1, random_state = 42)\n",
    "reg3.fit(X_train,y_train)"
   ]
  },
  {
   "cell_type": "code",
   "execution_count": 77,
   "metadata": {},
   "outputs": [
    {
     "data": {
      "text/plain": [
       "array([6.77822822e-02, 5.09055892e-02, 2.31904620e-01, 2.50127446e-01,\n",
       "       1.54796818e-01, 9.50740442e-03, 1.72799744e-02, 9.07754946e-03,\n",
       "       4.63813660e-05, 9.19829657e-06, 1.34051076e-03, 8.46170542e-04,\n",
       "       7.77469942e-04, 2.59634786e-03, 1.25285698e-04, 4.29923939e-03,\n",
       "       1.57291682e-02, 3.13814840e-04, 1.68799450e-04, 1.49682360e-04,\n",
       "       7.57917121e-04, 6.70171204e-07, 9.70518228e-06, 1.99565740e-04,\n",
       "       1.51132925e-04, 1.34417602e-04, 6.80850702e-04, 2.47155372e-04,\n",
       "       6.28111645e-04, 6.38143203e-04, 2.04048744e-04, 2.45905943e-04,\n",
       "       1.69384349e-04, 6.29603190e-04, 4.98860364e-04, 3.11660493e-05,\n",
       "       3.10610913e-03, 1.44173551e-04, 2.14233126e-04, 6.55220557e-04,\n",
       "       2.96541034e-03, 3.92481368e-03, 2.42224452e-03, 1.64792664e-03,\n",
       "       1.32242538e-04, 8.70700822e-04, 3.38535699e-04, 6.78216368e-05,\n",
       "       3.48556674e-04, 6.16509533e-04, 2.92647753e-04, 1.08229877e-04,\n",
       "       5.30596828e-04, 1.48654033e-03, 2.18750114e-03, 6.26534827e-04,\n",
       "       2.51029256e-02, 6.44571549e-05, 1.87015374e-04, 2.22867150e-04,\n",
       "       6.95774110e-05, 1.52457655e-04, 2.55680823e-04, 3.90190632e-03,\n",
       "       2.57914599e-04, 1.29566719e-04, 1.45177495e-02, 6.40732026e-04,\n",
       "       1.76156212e-02, 4.10544107e-04, 3.61467727e-04, 1.49912594e-03,\n",
       "       5.12968454e-04, 4.41498414e-03, 2.06753654e-03, 2.31178123e-04,\n",
       "       6.44406612e-05, 8.54910928e-05, 5.77392882e-03, 4.35447717e-03,\n",
       "       1.49934893e-04, 1.65145695e-05, 2.27587689e-05, 6.56520923e-03,\n",
       "       7.14587739e-04, 3.52948223e-04, 1.38982636e-04, 2.08184553e-03,\n",
       "       2.30154020e-04, 2.93989892e-05, 2.86299725e-04, 3.03282160e-05,\n",
       "       4.86981842e-05, 2.00978516e-05, 1.94296544e-04, 1.28112095e-03,\n",
       "       8.68898321e-05, 6.83291353e-03, 1.50741514e-02, 1.09245722e-02,\n",
       "       2.63267427e-02])"
      ]
     },
     "execution_count": 77,
     "metadata": {},
     "output_type": "execute_result"
    }
   ],
   "source": [
    "reg3.feature_importances_"
   ]
  },
  {
   "cell_type": "code",
   "execution_count": 182,
   "metadata": {},
   "outputs": [
    {
     "data": {
      "image/png": "[encoded data removed]",
      "text/plain": [
       "<Figure size 1080x576 with 1 Axes>"
      ]
     },
     "metadata": {
      "needs_background": "light"
     },
     "output_type": "display_data"
    }
   ],
   "source": [
    "importances = reg3.feature_importances_\n",
    "columns = data_4.columns\n",
    "indices = np.argsort(importances)[::-1]\n",
    "\n",
    "plt.figure(figsize = (15,8))\n",
    "plt.xticks(rotation = 90)\n",
    "sns.barplot(columns[indices], importances[indices])\n",
    "plt.show()"
   ]
  },
  {
   "cell_type": "markdown",
   "metadata": {},
   "source": [
    "Con esto podemos ver que los atributos más importantes son *surface_total* , *bathrooms* como los más importantes, luego *surface_covered* y más abajo *rooms* y *bedrooms*. Evidentemente no tiene una distribución similar a los datos con PCA, pero al ser pocos los valores más importanes, puedo pensar que las variables más predictoras en el dataset anterior están entre esas, siendo baños y superficie las más importante. Sí me llama la atención que mi hipótesis en función del tipo de propiedad no es tan fuerte como pensé, pero responde a lo planteado en el proyecto 1 donde analizaba la correlación de las variables y baños y superficie total eran las de más peso."
   ]
  },
  {
   "cell_type": "markdown",
   "metadata": {},
   "source": [
    "*Estimadores de árboles*"
   ]
  },
  {
   "cell_type": "markdown",
   "metadata": {},
   "source": [
    "Volvamos a nuestro random forest optimizado con el dataset con PCA y veamos cómo estimó cada árbol. En este caso, por la cantidad de estimadores, voy a tener 26 árboles, donde sólo varía el random state."
   ]
  },
  {
   "cell_type": "code",
   "execution_count": 164,
   "metadata": {},
   "outputs": [
    {
     "data": {
      "text/plain": [
       "[DecisionTreeRegressor(max_depth=18, max_features='sqrt',\n",
       "                       random_state=1608637542),\n",
       " DecisionTreeRegressor(max_depth=18, max_features='sqrt',\n",
       "                       random_state=1273642419),\n",
       " DecisionTreeRegressor(max_depth=18, max_features='sqrt',\n",
       "                       random_state=1935803228),\n",
       " DecisionTreeRegressor(max_depth=18, max_features='sqrt', random_state=787846414),\n",
       " DecisionTreeRegressor(max_depth=18, max_features='sqrt', random_state=996406378),\n",
       " DecisionTreeRegressor(max_depth=18, max_features='sqrt',\n",
       "                       random_state=1201263687),\n",
       " DecisionTreeRegressor(max_depth=18, max_features='sqrt', random_state=423734972),\n",
       " DecisionTreeRegressor(max_depth=18, max_features='sqrt', random_state=415968276),\n",
       " DecisionTreeRegressor(max_depth=18, max_features='sqrt', random_state=670094950),\n",
       " DecisionTreeRegressor(max_depth=18, max_features='sqrt',\n",
       "                       random_state=1914837113),\n",
       " DecisionTreeRegressor(max_depth=18, max_features='sqrt', random_state=669991378),\n",
       " DecisionTreeRegressor(max_depth=18, max_features='sqrt', random_state=429389014),\n",
       " DecisionTreeRegressor(max_depth=18, max_features='sqrt', random_state=249467210),\n",
       " DecisionTreeRegressor(max_depth=18, max_features='sqrt',\n",
       "                       random_state=1972458954),\n",
       " DecisionTreeRegressor(max_depth=18, max_features='sqrt',\n",
       "                       random_state=1572714583),\n",
       " DecisionTreeRegressor(max_depth=18, max_features='sqrt',\n",
       "                       random_state=1433267572),\n",
       " DecisionTreeRegressor(max_depth=18, max_features='sqrt', random_state=434285667),\n",
       " DecisionTreeRegressor(max_depth=18, max_features='sqrt', random_state=613608295),\n",
       " DecisionTreeRegressor(max_depth=18, max_features='sqrt', random_state=893664919),\n",
       " DecisionTreeRegressor(max_depth=18, max_features='sqrt', random_state=648061058),\n",
       " DecisionTreeRegressor(max_depth=18, max_features='sqrt', random_state=88409749),\n",
       " DecisionTreeRegressor(max_depth=18, max_features='sqrt', random_state=242285876),\n",
       " DecisionTreeRegressor(max_depth=18, max_features='sqrt',\n",
       "                       random_state=2018247425),\n",
       " DecisionTreeRegressor(max_depth=18, max_features='sqrt', random_state=953477463),\n",
       " DecisionTreeRegressor(max_depth=18, max_features='sqrt',\n",
       "                       random_state=1427830251),\n",
       " DecisionTreeRegressor(max_depth=18, max_features='sqrt',\n",
       "                       random_state=1883569565)]"
      ]
     },
     "execution_count": 164,
     "metadata": {},
     "output_type": "execute_result"
    }
   ],
   "source": [
    "reg2.estimators_"
   ]
  },
  {
   "cell_type": "markdown",
   "metadata": {},
   "source": [
    "Analizo los parámetros del árbol 15 y lo entreno para ver su desempeño"
   ]
  },
  {
   "cell_type": "code",
   "execution_count": 165,
   "metadata": {},
   "outputs": [
    {
     "name": "stdout",
     "output_type": "stream",
     "text": [
      "(82371, 67) (82371,) (35302, 67) (35302,)\n"
     ]
    }
   ],
   "source": [
    "X = X_nuevo\n",
    "y = data_3.price\n",
    "X_train, X_test, y_train, y_test = train_test_split(X, y, test_size=0.30, random_state=42)\n",
    "print(X_train.shape, y_train.shape, X_test.shape, y_test.shape)"
   ]
  },
  {
   "cell_type": "code",
   "execution_count": 166,
   "metadata": {},
   "outputs": [
    {
     "data": {
      "text/plain": [
       "{'ccp_alpha': 0.0,\n",
       " 'criterion': 'mse',\n",
       " 'max_depth': 18,\n",
       " 'max_features': 'sqrt',\n",
       " 'max_leaf_nodes': None,\n",
       " 'min_impurity_decrease': 0.0,\n",
       " 'min_impurity_split': None,\n",
       " 'min_samples_leaf': 1,\n",
       " 'min_samples_split': 2,\n",
       " 'min_weight_fraction_leaf': 0.0,\n",
       " 'presort': 'deprecated',\n",
       " 'random_state': 1433267572,\n",
       " 'splitter': 'best'}"
      ]
     },
     "execution_count": 166,
     "metadata": {},
     "output_type": "execute_result"
    }
   ],
   "source": [
    "reg2_tree = reg2.estimators_[15]\n",
    "reg2_tree.get_params()"
   ]
  },
  {
   "cell_type": "code",
   "execution_count": 168,
   "metadata": {},
   "outputs": [],
   "source": [
    "y_train_pred_reg2 = reg2_tree.predict(X_train)\n",
    "y_test_pred_reg2 = reg2_tree.predict(X_test)"
   ]
  },
  {
   "cell_type": "code",
   "execution_count": 169,
   "metadata": {},
   "outputs": [
    {
     "name": "stdout",
     "output_type": "stream",
     "text": [
      "R^2 Training Score: 0.90 \n",
      "R^2 Validation Score: 0.75 \n",
      "Rsme Train: 29600.96  \n",
      "Rsme Test: 46407.38 \n",
      "r2_cv: 0.74 \n",
      "rsme_cv: -47646.19\n"
     ]
    }
   ],
   "source": [
    "print('R^2 Training Score: {:.2f} \\nR^2 Validation Score: {:.2f} \\nRsme Train: {:.2f}  \\nRsme Test: {:.2f} \\nr2_cv: {:.2f} \\nrsme_cv: {:.2f}'.format(reg2_tree.score(X_train, y_train), \n",
    "                                                                                             reg2_tree.score(X_test, y_test),\n",
    "                                                                                             np.sqrt(metrics.mean_squared_error(y_train, y_train_pred_reg2)),\n",
    "                                                                                             np.sqrt(metrics.mean_squared_error(y_test, y_test_pred_reg2)),\n",
    "                                                                                             cross_val_score(reg2_tree, X_train, y_train, scoring='r2', cv=5).mean(),\n",
    "                                                                                             cross_val_score(reg2_tree, X_train, y_train, scoring='neg_root_mean_squared_error', cv=5).mean()))\n",
    "                                                                                             "
   ]
  },
  {
   "cell_type": "markdown",
   "metadata": {},
   "source": [
    "Acá puedo ver cómo con un sólo árbol me dio la diferencia entre train y test bastante overfitteado, y una diferencia mucho mayor de la que me dio el conjunto de árboles. Al promediarse los resultados de los demás árboles, éste dato se acomodó. También puede observarse cómo es resultado en CV también es bajo en comparación del forest completo. Ésto también me dice que como los resultados tienen mucho de azar también, se mejor reducirlo promediando el funcionamiento de varios árboles."
   ]
  },
  {
   "cell_type": "markdown",
   "metadata": {},
   "source": [
    "# CONCLUSIÓN GENERAL"
   ]
  },
  {
   "cell_type": "markdown",
   "metadata": {},
   "source": [
    "Para no repetirme demasiado, podemos concluir que Random Forest ha sido el modelo que mejor resultados me da, y las variables más importantes son Baño y superficie total, mientras que las otras variables tienen una importancia o peso similar. "
   ]
  },
  {
   "cell_type": "code",
   "execution_count": null,
   "metadata": {},
   "outputs": [],
   "source": []
  }
 ],
 "metadata": {
  "kernelspec": {
   "display_name": "Python 3",
   "language": "python",
   "name": "python3"
  },
  "language_info": {
   "codemirror_mode": {
    "name": "ipython",
    "version": 3
   },
   "file_extension": ".py",
   "mimetype": "text/x-python",
   "name": "python",
   "nbconvert_exporter": "python",
   "pygments_lexer": "ipython3",
   "version": "3.8.3"
  }
 },
 "nbformat": 4,
 "nbformat_minor": 4
}
